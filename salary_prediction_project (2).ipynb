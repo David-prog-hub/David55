{
 "cells": [
  {
   "cell_type": "markdown",
   "metadata": {},
   "source": [
    "# Salary Prediction\n",
    "\n",
    "Corresponding  with this notebook is a slide deck where you will need to update all the portions in red.  Completing the notebook will provide all the results needed for the slides.  **Correctly completing the slides is a required part of the project.**\n",
    "\n",
    "## Table of Contents\n",
    "- [Introduction](#intro)\n",
    "- [Part I - Descriptive Statistics](#descriptive)\n",
    "- [Part II - Regression](#regression)\n",
    "- [Part III - Interpret Results](#interpret)\n",
    "\n",
    "\n",
    "<a id='intro'></a>\n",
    "### Introduction\n",
    "\n",
    "Linear Regression is very commonly performed by data analysts and data scientists.  For this project, you will be working to understand the results of a Linear Regression model associated with salaries.  Your goal is to work through this notebook to understand what variables are related to salary, and how exactly they are related.\n",
    "\n",
    "As a final check, assure you meet all the criteria on the rubric.\n",
    "\n",
    "<a id='descriptive'></a>\n",
    "#### Part I - Descriptive Statistics\n",
    "\n",
    "To get started, let's import our libraries."
   ]
  },
  {
   "cell_type": "code",
   "execution_count": 1,
   "metadata": {},
   "outputs": [],
   "source": [
    "import pandas as pd\n",
    "import numpy as np\n",
    "import random\n",
    "import matplotlib.pyplot as plt\n",
    "\n",
    "random.seed(0)"
   ]
  },
  {
   "cell_type": "markdown",
   "metadata": {},
   "source": [
    "For each of the parts of question `1` notice links to [pandas documentation](https://pandas.pydata.org/) is provided to assist with answering the questions.  Though there are other ways you could solve the questions, the documentation is provided to assist you with one fast way to find the answer to each question.\n",
    "\n",
    "\n",
    "`1.a)` Now, read in the `salary_data.csv` data. Store it in `df`. Read in the dataset and take a look at the top few rows here. **This question is completed for you**:"
   ]
  },
  {
   "cell_type": "code",
   "execution_count": 2,
   "metadata": {
    "jupyter": {
     "outputs_hidden": true
    },
    "scrolled": true
   },
   "outputs": [
    {
     "data": {
      "text/html": [
       "<div>\n",
       "<style scoped>\n",
       "    .dataframe tbody tr th:only-of-type {\n",
       "        vertical-align: middle;\n",
       "    }\n",
       "\n",
       "    .dataframe tbody tr th {\n",
       "        vertical-align: top;\n",
       "    }\n",
       "\n",
       "    .dataframe thead th {\n",
       "        text-align: right;\n",
       "    }\n",
       "</style>\n",
       "<table border=\"1\" class=\"dataframe\">\n",
       "  <thead>\n",
       "    <tr style=\"text-align: right;\">\n",
       "      <th></th>\n",
       "      <th>Age</th>\n",
       "      <th>Gender</th>\n",
       "      <th>Education Level</th>\n",
       "      <th>Job Title</th>\n",
       "      <th>Years of Experience</th>\n",
       "      <th>Salary</th>\n",
       "    </tr>\n",
       "  </thead>\n",
       "  <tbody>\n",
       "    <tr>\n",
       "      <th>0</th>\n",
       "      <td>32</td>\n",
       "      <td>Male</td>\n",
       "      <td>Bachelor's</td>\n",
       "      <td>Software Engineer</td>\n",
       "      <td>5.0</td>\n",
       "      <td>90000</td>\n",
       "    </tr>\n",
       "    <tr>\n",
       "      <th>1</th>\n",
       "      <td>28</td>\n",
       "      <td>Female</td>\n",
       "      <td>Master's</td>\n",
       "      <td>Data Analyst</td>\n",
       "      <td>3.0</td>\n",
       "      <td>65000</td>\n",
       "    </tr>\n",
       "    <tr>\n",
       "      <th>2</th>\n",
       "      <td>45</td>\n",
       "      <td>Male</td>\n",
       "      <td>PhD</td>\n",
       "      <td>Senior Manager</td>\n",
       "      <td>15.0</td>\n",
       "      <td>150000</td>\n",
       "    </tr>\n",
       "    <tr>\n",
       "      <th>3</th>\n",
       "      <td>36</td>\n",
       "      <td>Female</td>\n",
       "      <td>Bachelor's</td>\n",
       "      <td>Sales Associate</td>\n",
       "      <td>7.0</td>\n",
       "      <td>60000</td>\n",
       "    </tr>\n",
       "    <tr>\n",
       "      <th>4</th>\n",
       "      <td>52</td>\n",
       "      <td>Male</td>\n",
       "      <td>Master's</td>\n",
       "      <td>Director</td>\n",
       "      <td>20.0</td>\n",
       "      <td>200000</td>\n",
       "    </tr>\n",
       "  </tbody>\n",
       "</table>\n",
       "</div>"
      ],
      "text/plain": [
       "   Age  Gender Education Level          Job Title  Years of Experience  Salary\n",
       "0   32    Male      Bachelor's  Software Engineer                  5.0   90000\n",
       "1   28  Female        Master's       Data Analyst                  3.0   65000\n",
       "2   45    Male             PhD     Senior Manager                 15.0  150000\n",
       "3   36  Female      Bachelor's    Sales Associate                  7.0   60000\n",
       "4   52    Male        Master's           Director                 20.0  200000"
      ]
     },
     "execution_count": 2,
     "metadata": {},
     "output_type": "execute_result"
    }
   ],
   "source": [
    "df = pd.read_csv('salary_data (1).csv')\n",
    "df.head()"
   ]
  },
  {
   "cell_type": "markdown",
   "metadata": {},
   "source": [
    "`b)` Use the below cell to find the number of rows in the dataset. [Helpful pandas link - `Dataframe.shape`](https://pandas.pydata.org/docs/reference/api/pandas.DataFrame.shape.html#pandas.DataFrame.shape)"
   ]
  },
  {
   "cell_type": "code",
   "execution_count": 3,
   "metadata": {
    "jupyter": {
     "outputs_hidden": true
    }
   },
   "outputs": [
    {
     "name": "stdout",
     "output_type": "stream",
     "text": [
      "Number of rows in the DataFrame: 373\n"
     ]
    }
   ],
   "source": [
    "num_rows = df.shape[0]  # or use len(df)\n",
    "print(f'Number of rows in the DataFrame: {num_rows}')"
   ]
  },
  {
   "cell_type": "code",
   "execution_count": 4,
   "metadata": {},
   "outputs": [
    {
     "name": "stdout",
     "output_type": "stream",
     "text": [
      "\n",
      "Missing data in each column:\n",
      "Age                    2\n",
      "Gender                 2\n",
      "Education Level        2\n",
      "Job Title              2\n",
      "Years of Experience    2\n",
      "Salary                 2\n",
      "dtype: int64\n"
     ]
    }
   ],
   "source": []
  },
  {
   "cell_type": "markdown",
   "metadata": {},
   "source": [
    "`c)` Do any of the rows have missing values? [Helpful pandas link - `Dataframe.isnull`](https://pandas.pydata.org/docs/reference/api/pandas.DataFrame.isnull.html) and [helpful pandas link - `Dataframe.sum`](https://pandas.pydata.org/docs/reference/api/pandas.DataFrame.sum.html)\n",
    "\n",
    "If there are missing values, determine a method for dealing with them."
   ]
  },
  {
   "cell_type": "code",
   "execution_count": 4,
   "metadata": {
    "jupyter": {
     "outputs_hidden": true
    }
   },
   "outputs": [
    {
     "name": "stdout",
     "output_type": "stream",
     "text": [
      "\n",
      "Missing data in each column:\n",
      "Age                    0\n",
      "Gender                 0\n",
      "Education Level        0\n",
      "Job Title              0\n",
      "Years of Experience    0\n",
      "Salary                 0\n",
      "dtype: int64\n"
     ]
    }
   ],
   "source": [
    "missing_data = df.isnull().sum()\n",
    "print(\"\\nMissing data in each column:\")\n",
    "print(missing_data)"
   ]
  },
  {
   "cell_type": "code",
   "execution_count": 5,
   "metadata": {},
   "outputs": [
    {
     "name": "stdout",
     "output_type": "stream",
     "text": [
      "Rows with missing data:\n",
      "Empty DataFrame\n",
      "Columns: [Age, Gender, Education Level, Job Title, Years of Experience, Salary]\n",
      "Index: []\n"
     ]
    }
   ],
   "source": [
    "missing_data_rows = df[df.isnull().any(axis=1)]\n",
    "\n",
    "print(\"Rows with missing data:\")\n",
    "print(missing_data_rows)"
   ]
  },
  {
   "cell_type": "code",
   "execution_count": 7,
   "metadata": {},
   "outputs": [
    {
     "name": "stdout",
     "output_type": "stream",
     "text": [
      "       Age  Gender Education Level                      Job Title  \\\n",
      "0       32    Male      Bachelor's              Software Engineer   \n",
      "1       28  Female        Master's                   Data Analyst   \n",
      "2       45    Male             PhD                 Senior Manager   \n",
      "3       36  Female      Bachelor's                Sales Associate   \n",
      "4       52    Male        Master's                       Director   \n",
      "...    ...     ...             ...                            ...   \n",
      "37666   35  Female      Bachelor's       Senior Marketing Analyst   \n",
      "37667   43    Male        Master's         Director of Operations   \n",
      "37668   29  Female      Bachelor's         Junior Project Manager   \n",
      "37669   34    Male      Bachelor's  Senior Operations Coordinator   \n",
      "37670   44  Female             PhD        Senior Business Analyst   \n",
      "\n",
      "       Years of Experience  Salary  \n",
      "0                      5.0   90000  \n",
      "1                      3.0   65000  \n",
      "2                     15.0  150000  \n",
      "3                      7.0   60000  \n",
      "4                     20.0  200000  \n",
      "...                    ...     ...  \n",
      "37666                  8.0   85000  \n",
      "37667                 19.0  170000  \n",
      "37668                  2.0   40000  \n",
      "37669                  7.0   90000  \n",
      "37670                 15.0  150000  \n",
      "\n",
      "[37671 rows x 6 columns]\n"
     ]
    }
   ],
   "source": [
    "df_large = pd.concat([df]*100, ignore_index=True)  # Create a larger DataFrame\n",
    "\n",
    "rows_to_drop = [172, 260]\n",
    "df_modified = df_large.drop(index=rows_to_drop)\n",
    "\n",
    "# Join the modified DataFrame with the original DataFrame\n",
    "# Here, we will concatenate them vertically\n",
    "df_combined = pd.concat([df, df_modified], ignore_index=True)\n",
    "\n",
    "# Display the new DataFrame\n",
    "print(df_combined)"
   ]
  },
  {
   "cell_type": "code",
   "execution_count": 8,
   "metadata": {},
   "outputs": [
    {
     "name": "stdout",
     "output_type": "stream",
     "text": [
      "       Age  Gender Education Level                      Job Title  \\\n",
      "0       32    Male      Bachelor's              Software Engineer   \n",
      "1       28  Female        Master's                   Data Analyst   \n",
      "2       45    Male             PhD                 Senior Manager   \n",
      "3       36  Female      Bachelor's                Sales Associate   \n",
      "4       52    Male        Master's                       Director   \n",
      "...    ...     ...             ...                            ...   \n",
      "37666   35  Female      Bachelor's       Senior Marketing Analyst   \n",
      "37667   43    Male        Master's         Director of Operations   \n",
      "37668   29  Female      Bachelor's         Junior Project Manager   \n",
      "37669   34    Male      Bachelor's  Senior Operations Coordinator   \n",
      "37670   44  Female             PhD        Senior Business Analyst   \n",
      "\n",
      "       Years of Experience  Salary  \n",
      "0                      5.0   90000  \n",
      "1                      3.0   65000  \n",
      "2                     15.0  150000  \n",
      "3                      7.0   60000  \n",
      "4                     20.0  200000  \n",
      "...                    ...     ...  \n",
      "37666                  8.0   85000  \n",
      "37667                 19.0  170000  \n",
      "37668                  2.0   40000  \n",
      "37669                  7.0   90000  \n",
      "37670                 15.0  150000  \n",
      "\n",
      "[37671 rows x 6 columns]\n"
     ]
    }
   ],
   "source": [
    "df = df_combined\n",
    "print(df)"
   ]
  },
  {
   "cell_type": "markdown",
   "metadata": {},
   "source": [
    "`d)` How many employees are in each `Education Level`? Build a bar chart to show the count of employees in each level."
   ]
  },
  {
   "cell_type": "code",
   "execution_count": 9,
   "metadata": {},
   "outputs": [
    {
     "data": {
      "image/png": "[encoded data removed]",
      "text/plain": [
       "<Figure size 800x600 with 1 Axes>"
      ]
     },
     "metadata": {},
     "output_type": "display_data"
    }
   ],
   "source": [
    "import seaborn as sns\n",
    "education_counts = df['Education Level'].value_counts()\n",
    "\n",
    "# Create a bar chart\n",
    "plt.figure(figsize=(8, 6))\n",
    "sns.barplot(x=education_counts.index, y=education_counts.values, palette='viridis')\n",
    "plt.title(\"Number of Employees by Education Level\")\n",
    "plt.xlabel(\"Education Level\")\n",
    "plt.ylabel(\"Number of Employees\")\n",
    "plt.xticks(rotation=45)\n",
    "plt.show()"
   ]
  },
  {
   "cell_type": "code",
   "execution_count": 10,
   "metadata": {},
   "outputs": [
    {
     "data": {
      "image/png": "[encoded data removed]",
      "text/plain": [
       "<Figure size 640x480 with 1 Axes>"
      ]
     },
     "metadata": {},
     "output_type": "display_data"
    }
   ],
   "source": [
    "# bar chart of results - this part is done for you\n",
    "df['Education Level'].value_counts().plot(kind='bar');\n",
    "plt.title('Number of Visits From Each Education Level');\n",
    "plt.ylabel('Count of Visits');\n",
    "plt.show();"
   ]
  },
  {
   "cell_type": "markdown",
   "metadata": {},
   "source": [
    "`e)` What are the possible values for `Salary`?  What does the distribution of `Salary` look like?"
   ]
  },
  {
   "cell_type": "code",
   "execution_count": 12,
   "metadata": {},
   "outputs": [
    {
     "name": "stdout",
     "output_type": "stream",
     "text": [
      "Possible values for Salary:\n",
      "[ 90000  65000 150000  60000 200000  55000 120000  80000  45000 110000\n",
      "  75000 140000 130000  40000 125000 115000  35000 180000 190000  50000\n",
      " 250000 170000 160000  85000  95000 105000  70000 100000  30000 135000\n",
      " 220000 175000 185000 145000 155000    350]\n"
     ]
    },
    {
     "data": {
      "image/png": "[encoded data removed]",
      "text/plain": [
       "<Figure size 1000x600 with 1 Axes>"
      ]
     },
     "metadata": {},
     "output_type": "display_data"
    }
   ],
   "source": [
    "import seaborn as sns \n",
    "\n",
    "#List possible values of 'Salary'\n",
    "unique_salaries = df['Salary'].unique()\n",
    "print(\"Possible values for Salary:\")\n",
    "print(unique_salaries)\n",
    "\n",
    "# Visualize the distribution of salaries\n",
    "plt.figure(figsize=(10, 6))\n",
    "sns.histplot(df['Salary'], bins=10, kde=True)\n",
    "plt.title(\"Distribution of Salaries\")\n",
    "plt.xlabel(\"Salary\")\n",
    "plt.ylabel(\"Frequency\")\n",
    "plt.grid(True)\n",
    "plt.show()\n",
    " "
   ]
  },
  {
   "cell_type": "code",
   "execution_count": null,
   "metadata": {},
   "outputs": [],
   "source": []
  },
  {
   "cell_type": "markdown",
   "metadata": {},
   "source": [
    "<a id='regression'></a>\n",
    "#### Part II - Regression\n",
    "\n",
    "`1.` Now that you have had a chance to learn more about the dataset, let's look more at how different factors are related to `Salary`.\n",
    "\n",
    "`a)` Consider average salary by gender, is there evidence that salaries are higher for one gender over the other? **This question is completed for you**"
   ]
  },
  {
   "cell_type": "code",
   "execution_count": 13,
   "metadata": {
    "jupyter": {
     "outputs_hidden": true
    }
   },
   "outputs": [
    {
     "name": "stdout",
     "output_type": "stream",
     "text": [
      "Average Salary by Gender:\n",
      "Gender\n",
      "Female     97011.173184\n",
      "Male      103863.074214\n",
      "Name: Salary, dtype: float64\n",
      "\n",
      "Evidence suggests that salaries are higher for Males.\n"
     ]
    }
   ],
   "source": [
    "#df.query('group == \"group\"')['converted'].mean()\n",
    "average_salary_by_gender = df.groupby('Gender')['Salary'].mean()\n",
    "\n",
    "print(\"Average Salary by Gender:\")\n",
    "print(average_salary_by_gender)\n",
    "\n",
    "\n",
    "# Check for evidence of salary differences\n",
    "if average_salary_by_gender['Male'] > average_salary_by_gender['Female']:\n",
    "    print(\"\\nEvidence suggests that salaries are higher for Males.\")\n",
    "elif average_salary_by_gender['Male'] < average_salary_by_gender['Female']:\n",
    "    print(\"\\nEvidence suggests that salaries are higher for Females.\")\n",
    "else:\n",
    "    print(\"\\nThere is no evidence of salary differences between genders.\")\n",
    " \n"
   ]
  },
  {
   "cell_type": "markdown",
   "metadata": {},
   "source": [
    "`b)` Consider average salary by education level, is there evidence that salaries are higher for increased education?"
   ]
  },
  {
   "cell_type": "code",
   "execution_count": 14,
   "metadata": {
    "jupyter": {
     "outputs_hidden": true
    }
   },
   "outputs": [
    {
     "name": "stdout",
     "output_type": "stream",
     "text": [
      "Education Level\n",
      "Bachelor's     74753.142819\n",
      "Master's      129795.918367\n",
      "PhD           157842.718447\n",
      "Name: Salary, dtype: float64\n"
     ]
    }
   ],
   "source": [
    "average_salary_by_educ = df.groupby('Education Level')['Salary'].mean()\n",
    "print(average_salary_by_educ)"
   ]
  },
  {
   "cell_type": "markdown",
   "metadata": {},
   "source": [
    "`c)` Consider average salary by years of experience, is there evidence that salaries are associated with increased years of experience?"
   ]
  },
  {
   "cell_type": "code",
   "execution_count": 15,
   "metadata": {},
   "outputs": [
    {
     "name": "stdout",
     "output_type": "stream",
     "text": [
      "Years of Experience\n",
      "0.0      33333.333333\n",
      "0.5      35000.000000\n",
      "1.0      37857.142857\n",
      "1.5      36279.166667\n",
      "2.0      41774.193548\n",
      "3.0      51166.666667\n",
      "4.0      58500.000000\n",
      "5.0      64117.647059\n",
      "6.0      83750.000000\n",
      "7.0      84444.444444\n",
      "8.0      88800.000000\n",
      "9.0     101818.181818\n",
      "10.0    100555.555556\n",
      "11.0    100500.000000\n",
      "12.0    105000.000000\n",
      "13.0    120000.000000\n",
      "14.0    125769.230769\n",
      "15.0    134375.000000\n",
      "16.0    157509.631260\n",
      "17.0    143000.000000\n",
      "18.0    149607.469512\n",
      "19.0    166333.333333\n",
      "20.0    168846.153846\n",
      "21.0    173846.153846\n",
      "22.0    162222.222222\n",
      "23.0    177500.000000\n",
      "24.0    250000.000000\n",
      "25.0    200000.000000\n",
      "Name: Salary, dtype: float64\n"
     ]
    }
   ],
   "source": [
    "average_salary_by_exp = df.groupby('Years of Experience')['Salary'].mean()\n",
    "print(average_salary_by_exp)"
   ]
  },
  {
   "cell_type": "markdown",
   "metadata": {},
   "source": [
    "`d)`  To make use of Job Title column, let's create a bool flag based on word existence\n",
    "\n",
    "List of words: \n",
    "\n",
    "* Director\n",
    "* Junior\n",
    "* Senior\n",
    "* Manager\n",
    "* Analyst\n",
    "* Engineer\n",
    "\n",
    "**This question is completed for you**"
   ]
  },
  {
   "cell_type": "code",
   "execution_count": 16,
   "metadata": {},
   "outputs": [
    {
     "name": "stdout",
     "output_type": "stream",
     "text": [
      "     Age  Gender Education Level                      Job Title  \\\n",
      "0     32    Male      Bachelor's              Software Engineer   \n",
      "1     28  Female        Master's                   Data Analyst   \n",
      "2     45    Male             PhD                 Senior Manager   \n",
      "3     36  Female      Bachelor's                Sales Associate   \n",
      "4     52    Male        Master's                       Director   \n",
      "..   ...     ...             ...                            ...   \n",
      "368   35  Female      Bachelor's       Senior Marketing Analyst   \n",
      "369   43    Male        Master's         Director of Operations   \n",
      "370   29  Female      Bachelor's         Junior Project Manager   \n",
      "371   34    Male      Bachelor's  Senior Operations Coordinator   \n",
      "372   44  Female             PhD        Senior Business Analyst   \n",
      "\n",
      "     Years of Experience  Salary  is_Director  is_Junior  is_Senior  \\\n",
      "0                    5.0   90000        False      False      False   \n",
      "1                    3.0   65000        False      False      False   \n",
      "2                   15.0  150000        False      False       True   \n",
      "3                    7.0   60000        False      False      False   \n",
      "4                   20.0  200000         True      False      False   \n",
      "..                   ...     ...          ...        ...        ...   \n",
      "368                  8.0   85000        False      False       True   \n",
      "369                 19.0  170000         True      False      False   \n",
      "370                  2.0   40000        False       True      False   \n",
      "371                  7.0   90000        False      False       True   \n",
      "372                 15.0  150000        False      False       True   \n",
      "\n",
      "     is_Manager  is_Analyst  is_Engineer  \n",
      "0         False       False         True  \n",
      "1         False        True        False  \n",
      "2          True       False        False  \n",
      "3         False       False        False  \n",
      "4         False       False        False  \n",
      "..          ...         ...          ...  \n",
      "368       False        True        False  \n",
      "369       False       False        False  \n",
      "370        True       False        False  \n",
      "371       False       False        False  \n",
      "372       False        True        False  \n",
      "\n",
      "[373 rows x 12 columns]\n"
     ]
    }
   ],
   "source": [
    " \n",
    "# Read the CSV file into a DataFrame\n",
    "df = pd.read_csv('salary_data (1).csv')\n",
    "\n",
    "# Define the list of words to create flags for\n",
    "flag_words = ['Director', 'Junior', 'Senior', 'Manager', 'Analyst', 'Engineer']\n",
    "\n",
    "# Create boolean flags based on word existence in Job Title\n",
    "for word in flag_words:\n",
    "    df['is_' + word] = df['Job Title'].str.contains(word, case=False, na=False)\n",
    "\n",
    "# Display the updated DataFrame\n",
    "print(df)"
   ]
  },
  {
   "cell_type": "markdown",
   "metadata": {},
   "source": [
    "`e)` Create a flag for gender where 1 is if a person is male and 0 if the person is not."
   ]
  },
  {
   "cell_type": "code",
   "execution_count": 17,
   "metadata": {},
   "outputs": [
    {
     "name": "stdout",
     "output_type": "stream",
     "text": [
      "     Age  Gender Education Level                      Job Title  \\\n",
      "0     32    Male      Bachelor's              Software Engineer   \n",
      "1     28  Female        Master's                   Data Analyst   \n",
      "2     45    Male             PhD                 Senior Manager   \n",
      "3     36  Female      Bachelor's                Sales Associate   \n",
      "4     52    Male        Master's                       Director   \n",
      "..   ...     ...             ...                            ...   \n",
      "368   35  Female      Bachelor's       Senior Marketing Analyst   \n",
      "369   43    Male        Master's         Director of Operations   \n",
      "370   29  Female      Bachelor's         Junior Project Manager   \n",
      "371   34    Male      Bachelor's  Senior Operations Coordinator   \n",
      "372   44  Female             PhD        Senior Business Analyst   \n",
      "\n",
      "     Years of Experience  Salary  is_Director  is_Junior  is_Senior  \\\n",
      "0                    5.0   90000        False      False      False   \n",
      "1                    3.0   65000        False      False      False   \n",
      "2                   15.0  150000        False      False       True   \n",
      "3                    7.0   60000        False      False      False   \n",
      "4                   20.0  200000         True      False      False   \n",
      "..                   ...     ...          ...        ...        ...   \n",
      "368                  8.0   85000        False      False       True   \n",
      "369                 19.0  170000         True      False      False   \n",
      "370                  2.0   40000        False       True      False   \n",
      "371                  7.0   90000        False      False       True   \n",
      "372                 15.0  150000        False      False       True   \n",
      "\n",
      "     is_Manager  is_Analyst  is_Engineer  is_male  \n",
      "0         False       False         True        1  \n",
      "1         False        True        False        0  \n",
      "2          True       False        False        1  \n",
      "3         False       False        False        0  \n",
      "4         False       False        False        1  \n",
      "..          ...         ...          ...      ...  \n",
      "368       False        True        False        0  \n",
      "369       False       False        False        1  \n",
      "370        True       False        False        0  \n",
      "371       False       False        False        1  \n",
      "372       False        True        False        0  \n",
      "\n",
      "[373 rows x 13 columns]\n"
     ]
    }
   ],
   "source": [
    "# Create a flag for gender\n",
    "df['is_male'] = df['Gender'].map({'Male': 1, 'Female': 0})\n",
    "\n",
    "# Display the updated DataFrame\n",
    "print(df)"
   ]
  },
  {
   "cell_type": "markdown",
   "metadata": {},
   "source": [
    "`f)` Use statsmodels to fit a linear model to predict salary using each of the features from `a-e`.  These include:\n",
    "* Gender\n",
    "* Job TItle\n",
    "* Years of Experience\n",
    "* Education"
   ]
  },
  {
   "cell_type": "code",
   "execution_count": 18,
   "metadata": {
    "jupyter": {
     "outputs_hidden": true
    }
   },
   "outputs": [
    {
     "name": "stdout",
     "output_type": "stream",
     "text": [
      "                            OLS Regression Results                            \n",
      "==============================================================================\n",
      "Dep. Variable:                 Salary   R-squared:                       0.984\n",
      "Model:                            OLS   Adj. R-squared:                  0.969\n",
      "Method:                 Least Squares   F-statistic:                     66.40\n",
      "Date:                Tue, 01 Jul 2025   Prob (F-statistic):          8.65e-121\n",
      "Time:                        13:32:57   Log-Likelihood:                -3781.7\n",
      "No. Observations:                 373   AIC:                             7921.\n",
      "Df Residuals:                     194   BIC:                             8623.\n",
      "Df Model:                         178                                         \n",
      "Covariance Type:            nonrobust                                         \n",
      "===================================================================================================================\n",
      "                                                      coef    std err          t      P>|t|      [0.025      0.975]\n",
      "-------------------------------------------------------------------------------------------------------------------\n",
      "const                                           -6329.4619   1.29e+04     -0.492      0.623   -3.17e+04    1.91e+04\n",
      "Age                                              2221.3914    474.428      4.682      0.000    1285.693    3157.090\n",
      "Years of Experience                              1504.5251    581.326      2.588      0.010     357.994    2651.056\n",
      "is_Director                                      3.805e+04   3642.392     10.446      0.000    3.09e+04    4.52e+04\n",
      "is_Junior                                       -1.742e+04   3366.491     -5.174      0.000   -2.41e+04   -1.08e+04\n",
      "is_Senior                                        1.118e+04   4032.521      2.772      0.006    3224.771    1.91e+04\n",
      "is_Manager                                       1892.0632   6782.505      0.279      0.781   -1.15e+04    1.53e+04\n",
      "is_Analyst                                      -4884.9195   1590.783     -3.071      0.002   -8022.369   -1747.470\n",
      "is_Engineer                                      5973.7535   2462.879      2.426      0.016    1116.297    1.08e+04\n",
      "is_male                                           415.1244    724.150      0.573      0.567   -1013.092    1843.341\n",
      "Gender_Male                                       415.1244    724.150      0.573      0.567   -1013.092    1843.341\n",
      "Education Level_Master's                         4184.7274   2349.575      1.781      0.076    -449.263    8818.717\n",
      "Education Level_PhD                              1.325e+04   3679.170      3.602      0.000    5995.618    2.05e+04\n",
      "Job Title_Accountant                            -1.355e+04   8713.544     -1.555      0.122   -3.07e+04    3633.668\n",
      "Job Title_Administrative Assistant              -4.051e+04   6396.354     -6.334      0.000   -5.31e+04   -2.79e+04\n",
      "Job Title_Business Analyst                       2763.1313   6283.870      0.440      0.661   -9630.341    1.52e+04\n",
      "Job Title_Business Development Manager           1858.9147   1.22e+04      0.152      0.879   -2.22e+04    2.59e+04\n",
      "Job Title_Business Intelligence Analyst          7361.8138   8598.038      0.856      0.393   -9595.816    2.43e+04\n",
      "Job Title_CEO                                    1.068e+05   9871.410     10.821      0.000    8.73e+04    1.26e+05\n",
      "Job Title_Chief Data Officer                     9.043e+04   9289.749      9.735      0.000    7.21e+04    1.09e+05\n",
      "Job Title_Chief Technology Officer               9.063e+04   9720.658      9.323      0.000    7.15e+04     1.1e+05\n",
      "Job Title_Content Marketing Manager             -1.172e+04   1.21e+04     -0.968      0.334   -3.56e+04    1.22e+04\n",
      "Job Title_Copywriter                            -1.888e+04   8774.156     -2.152      0.033   -3.62e+04   -1573.565\n",
      "Job Title_Creative Director                     -3.027e+04   8362.727     -3.619      0.000   -4.68e+04   -1.38e+04\n",
      "Job Title_Customer Service Manager              -1.465e+04   1.08e+04     -1.362      0.175   -3.59e+04    6572.770\n",
      "Job Title_Customer Service Rep                  -1.749e+04   8725.412     -2.004      0.046   -3.47e+04    -278.557\n",
      "Job Title_Customer Service Representative       -2.506e+04   8708.361     -2.877      0.004   -4.22e+04   -7881.079\n",
      "Job Title_Customer Success Manager               -2.16e+04    1.2e+04     -1.796      0.074   -4.53e+04    2126.450\n",
      "Job Title_Customer Success Rep                  -1.293e+04   8836.111     -1.463      0.145   -3.04e+04    4495.935\n",
      "Job Title_Data Analyst                          -9144.5495   6537.917     -1.399      0.164    -2.2e+04    3749.972\n",
      "Job Title_Data Entry Clerk                      -1.421e+04   8875.331     -1.601      0.111   -3.17e+04    3299.205\n",
      "Job Title_Data Scientist                         7380.5601   8876.875      0.831      0.407   -1.01e+04    2.49e+04\n",
      "Job Title_Digital Content Producer              -1.483e+04   8738.509     -1.697      0.091   -3.21e+04    2408.822\n",
      "Job Title_Digital Marketing Manager             -9205.4522   1.23e+04     -0.748      0.455   -3.35e+04    1.51e+04\n",
      "Job Title_Director                               1.766e+04   8549.312      2.066      0.040     801.959    3.45e+04\n",
      "Job Title_Director of Business Development        274.9701   8278.438      0.033      0.974   -1.61e+04    1.66e+04\n",
      "Job Title_Director of Engineering                1236.7463   5761.147      0.215      0.830   -1.01e+04    1.26e+04\n",
      "Job Title_Director of Finance                     853.4823   6008.956      0.142      0.887    -1.1e+04    1.27e+04\n",
      "Job Title_Director of HR                         7379.3025   8294.932      0.890      0.375   -8980.523    2.37e+04\n",
      "Job Title_Director of Human Capital              3653.3860   8309.138      0.440      0.661   -1.27e+04       2e+04\n",
      "Job Title_Director of Human Resources             672.4791   6073.283      0.111      0.912   -1.13e+04    1.27e+04\n",
      "Job Title_Director of Marketing                  4575.9343   3035.096      1.508      0.133   -1410.087    1.06e+04\n",
      "Job Title_Director of Operations                -3978.5298   3037.568     -1.310      0.192   -9969.427    2012.368\n",
      "Job Title_Director of Product Management           44.5285   8309.848      0.005      0.996   -1.63e+04    1.64e+04\n",
      "Job Title_Director of Sales                      9717.7528   8302.425      1.170      0.243   -6656.850    2.61e+04\n",
      "Job Title_Director of Sales and Marketing       -9139.7286   8596.519     -1.063      0.289   -2.61e+04    7814.907\n",
      "Job Title_Event Coordinator                     -3.282e+04   6373.309     -5.149      0.000   -4.54e+04   -2.02e+04\n",
      "Job Title_Financial Advisor                      6572.1766   8839.001      0.744      0.458   -1.09e+04     2.4e+04\n",
      "Job Title_Financial Analyst                     -1.139e+04   8468.608     -1.345      0.180   -2.81e+04    5310.644\n",
      "Job Title_Financial Manager                      2.879e+04   1.23e+04      2.335      0.021    4475.121    5.31e+04\n",
      "Job Title_Graphic Designer                       -1.26e+04   8745.354     -1.441      0.151   -2.99e+04    4643.714\n",
      "Job Title_HR Generalist                         -2.352e+04   6452.577     -3.645      0.000   -3.62e+04   -1.08e+04\n",
      "Job Title_HR Manager                            -5871.6984   1.07e+04     -0.547      0.585    -2.7e+04    1.53e+04\n",
      "Job Title_Help Desk Analyst                     -1.015e+04   8579.439     -1.183      0.238   -2.71e+04    6770.297\n",
      "Job Title_Human Resources Director               7379.3025   8294.932      0.890      0.375   -8980.523    2.37e+04\n",
      "Job Title_IT Manager                            -7162.8303   1.25e+04     -0.573      0.567   -3.18e+04    1.75e+04\n",
      "Job Title_IT Support                            -1.415e+04   8764.387     -1.615      0.108   -3.14e+04    3134.138\n",
      "Job Title_IT Support Specialist                   -2.5e+04   8722.214     -2.867      0.005   -4.22e+04   -7800.014\n",
      "Job Title_Junior Account Manager                  644.3085   8190.129      0.079      0.937   -1.55e+04    1.68e+04\n",
      "Job Title_Junior Accountant                      -384.2560   5120.020     -0.075      0.940   -1.05e+04    9713.794\n",
      "Job Title_Junior Advertising Coordinator        -3237.1860   8433.856     -0.384      0.702   -1.99e+04    1.34e+04\n",
      "Job Title_Junior Business Analyst                4798.0489   3443.485      1.393      0.165   -1993.425    1.16e+04\n",
      "Job Title_Junior Business Development Associate -3430.0219   3534.868     -0.970      0.333   -1.04e+04    3541.684\n",
      "Job Title_Junior Business Operations Analyst     -2.12e+04   5948.155     -3.564      0.000   -3.29e+04   -9467.734\n",
      "Job Title_Junior Copywriter                     -2406.9371   8410.021     -0.286      0.775    -1.9e+04    1.42e+04\n",
      "Job Title_Junior Customer Support Specialist    -2847.0953   8501.396     -0.335      0.738   -1.96e+04    1.39e+04\n",
      "Job Title_Junior Data Analyst                   -2698.7150   8243.917     -0.327      0.744    -1.9e+04    1.36e+04\n",
      "Job Title_Junior Data Scientist                  4550.6887   8640.611      0.527      0.599   -1.25e+04    2.16e+04\n",
      "Job Title_Junior Designer                       -3681.0206   8415.709     -0.437      0.662   -2.03e+04    1.29e+04\n",
      "Job Title_Junior Developer                       8100.2125   8573.243      0.945      0.346   -8808.516     2.5e+04\n",
      "Job Title_Junior Financial Advisor               1.082e+04   8463.599      1.278      0.203   -5876.975    2.75e+04\n",
      "Job Title_Junior Financial Analyst               5946.1595   3534.805      1.682      0.094   -1025.422    1.29e+04\n",
      "Job Title_Junior HR Coordinator                 -3517.6328   6079.702     -0.579      0.564   -1.55e+04    8473.166\n",
      "Job Title_Junior HR Generalist                  -1074.3241   6051.778     -0.178      0.859    -1.3e+04    1.09e+04\n",
      "Job Title_Junior Marketing Analyst               9023.9251   5056.551      1.785      0.076    -948.946     1.9e+04\n",
      "Job Title_Junior Marketing Coordinator          -1513.8280   3801.122     -0.398      0.691   -9010.658    5983.002\n",
      "Job Title_Junior Marketing Manager               4992.6473   7529.456      0.663      0.508   -9857.454    1.98e+04\n",
      "Job Title_Junior Marketing Specialist            3806.6106   4033.078      0.944      0.346   -4147.699    1.18e+04\n",
      "Job Title_Junior Operations Analyst              4561.9009   4000.859      1.140      0.256   -3328.863    1.25e+04\n",
      "Job Title_Junior Operations Coordinator         -5902.4120   8430.014     -0.700      0.485   -2.25e+04    1.07e+04\n",
      "Job Title_Junior Operations Manager              1960.8866   7462.560      0.263      0.793   -1.28e+04    1.67e+04\n",
      "Job Title_Junior Product Manager                 2591.7491   7075.007      0.366      0.715   -1.14e+04    1.65e+04\n",
      "Job Title_Junior Project Manager                -1585.0115   6822.686     -0.232      0.817    -1.5e+04    1.19e+04\n",
      "Job Title_Junior Recruiter                       -185.5457   8425.552     -0.022      0.982   -1.68e+04    1.64e+04\n",
      "Job Title_Junior Research Scientist              7329.2973   8632.011      0.849      0.397   -9695.338    2.44e+04\n",
      "Job Title_Junior Sales Representative           -4463.4273   4459.230     -1.001      0.318   -1.33e+04    4331.367\n",
      "Job Title_Junior Social Media Manager           -4299.0003      1e+04     -0.428      0.669   -2.41e+04    1.55e+04\n",
      "Job Title_Junior Social Media Specialist        -4628.3285   8421.232     -0.550      0.583   -2.12e+04     1.2e+04\n",
      "Job Title_Junior Software Developer             -4626.4903   6103.549     -0.758      0.449   -1.67e+04    7411.342\n",
      "Job Title_Junior Software Engineer              -8263.6316   7898.257     -1.046      0.297   -2.38e+04    7313.845\n",
      "Job Title_Junior UX Designer                     2329.2973   8632.011      0.270      0.788   -1.47e+04    1.94e+04\n",
      "Job Title_Junior Web Designer                   -1015.7946   8431.890     -0.120      0.904   -1.76e+04    1.56e+04\n",
      "Job Title_Junior Web Developer                  -7910.4102   8471.891     -0.934      0.352   -2.46e+04    8798.426\n",
      "Job Title_Marketing Analyst                     -5297.5305   6294.025     -0.842      0.401   -1.77e+04    7115.971\n",
      "Job Title_Marketing Coordinator                 -1.509e+04   5454.479     -2.766      0.006   -2.58e+04   -4330.717\n",
      "Job Title_Marketing Manager                      6415.0800   1.23e+04      0.523      0.602   -1.78e+04    3.06e+04\n",
      "Job Title_Marketing Specialist                  -3.035e+04   8731.293     -3.476      0.001   -4.76e+04   -1.31e+04\n",
      "Job Title_Network Engineer                      -1.163e+04   8220.939     -1.415      0.159   -2.78e+04    4584.033\n",
      "Job Title_Office Manager                        -4.199e+04   1.24e+04     -3.380      0.001   -6.65e+04   -1.75e+04\n",
      "Job Title_Operations Analyst                    -9668.9813   9103.070     -1.062      0.289   -2.76e+04    8284.707\n",
      "Job Title_Operations Director                    1.956e+04   8366.625      2.338      0.020    3056.881    3.61e+04\n",
      "Job Title_Operations Manager                     1.353e+04   1.09e+04      1.238      0.217   -8030.170    3.51e+04\n",
      "Job Title_Principal Engineer                     1.956e+04   8634.364      2.265      0.025    2526.971    3.66e+04\n",
      "Job Title_Principal Scientist                    1.573e+04   9138.571      1.721      0.087   -2296.285    3.38e+04\n",
      "Job Title_Product Designer                       8981.4194   8837.168      1.016      0.311   -8447.839    2.64e+04\n",
      "Job Title_Product Manager                        1.252e+04   1.07e+04      1.166      0.245   -8658.549    3.37e+04\n",
      "Job Title_Product Marketing Manager              4637.5233   1.22e+04      0.379      0.705   -1.95e+04    2.87e+04\n",
      "Job Title_Project Engineer                      -4021.0572   8346.501     -0.482      0.631   -2.05e+04    1.24e+04\n",
      "Job Title_Project Manager                        1.085e+04   1.06e+04      1.026      0.306      -1e+04    3.17e+04\n",
      "Job Title_Public Relations Manager              -9205.4522   1.23e+04     -0.748      0.455   -3.35e+04    1.51e+04\n",
      "Job Title_Recruiter                             -2.702e+04   6398.172     -4.223      0.000   -3.96e+04   -1.44e+04\n",
      "Job Title_Research Director                      2.016e+04   8737.626      2.308      0.022    2931.193    3.74e+04\n",
      "Job Title_Research Scientist                     1.474e+04   9583.175      1.538      0.126   -4158.243    3.36e+04\n",
      "Job Title_Sales Associate                       -2.339e+04   6389.242     -3.661      0.000    -3.6e+04   -1.08e+04\n",
      "Job Title_Sales Director                         1060.5567   8559.513      0.124      0.902   -1.58e+04    1.79e+04\n",
      "Job Title_Sales Executive                        2.506e+04   9318.580      2.689      0.008    6677.275    4.34e+04\n",
      "Job Title_Sales Manager                          -205.2384   9904.029     -0.021      0.983   -1.97e+04    1.93e+04\n",
      "Job Title_Sales Operations Manager              -1.344e+04   1.24e+04     -1.082      0.281   -3.79e+04    1.11e+04\n",
      "Job Title_Sales Representative                  -2.004e+04   8792.543     -2.279      0.024   -3.74e+04   -2694.325\n",
      "Job Title_Senior Account Executive              -1.454e+04   8719.771     -1.667      0.097   -3.17e+04    2660.637\n",
      "Job Title_Senior Account Manager                -6659.5886   9919.449     -0.671      0.503   -2.62e+04    1.29e+04\n",
      "Job Title_Senior Accountant                     -1.524e+04   6421.791     -2.374      0.019   -2.79e+04   -2578.098\n",
      "Job Title_Senior Business Analyst                9420.2437   3445.107      2.734      0.007    2625.571    1.62e+04\n",
      "Job Title_Senior Business Development Manager    7872.1716   6500.153      1.211      0.227   -4947.869    2.07e+04\n",
      "Job Title_Senior Consultant                      3811.8499   8841.625      0.431      0.667   -1.36e+04    2.12e+04\n",
      "Job Title_Senior Data Analyst                    1.293e+04   5813.172      2.224      0.027    1465.614    2.44e+04\n",
      "Job Title_Senior Data Engineer                   7586.3598   5029.774      1.508      0.133   -2333.700    1.75e+04\n",
      "Job Title_Senior Data Scientist                  1.662e+04   4459.644      3.727      0.000    7827.071    2.54e+04\n",
      "Job Title_Senior Engineer                        -1.03e+04   6293.133     -1.636      0.103   -2.27e+04    2114.635\n",
      "Job Title_Senior Financial Advisor               -254.3706   5703.645     -0.045      0.964   -1.15e+04     1.1e+04\n",
      "Job Title_Senior Financial Analyst               1.064e+04   3852.437      2.761      0.006    3037.228    1.82e+04\n",
      "Job Title_Senior Financial Manager               1050.2426   6334.210      0.166      0.868   -1.14e+04    1.35e+04\n",
      "Job Title_Senior Graphic Designer                -1.49e+04   8668.213     -1.719      0.087    -3.2e+04    2196.475\n",
      "Job Title_Senior HR Generalist                  -9765.4533   8726.394     -1.119      0.264    -2.7e+04    7445.330\n",
      "Job Title_Senior HR Manager                      8291.3612   7199.672      1.152      0.251   -5908.318    2.25e+04\n",
      "Job Title_Senior HR Specialist                   1.066e+04   8702.511      1.225      0.222   -6506.024    2.78e+04\n",
      "Job Title_Senior Human Resources Coordinator    -2.431e+04   8694.129     -2.796      0.006   -4.15e+04   -7159.494\n",
      "Job Title_Senior Human Resources Manager         7328.1220   7937.003      0.923      0.357   -8325.770     2.3e+04\n",
      "Job Title_Senior Human Resources Specialist      2552.2723   8652.270      0.295      0.768   -1.45e+04    1.96e+04\n",
      "Job Title_Senior IT Consultant                   2182.9064   6611.493      0.330      0.742   -1.09e+04    1.52e+04\n",
      "Job Title_Senior IT Project Manager              5845.9884   9742.264      0.600      0.549   -1.34e+04    2.51e+04\n",
      "Job Title_Senior IT Support Specialist          -1.448e+04   8780.222     -1.650      0.101   -3.18e+04    2833.607\n",
      "Job Title_Senior Manager                         1.177e+04   8227.007      1.431      0.154   -4451.112     2.8e+04\n",
      "Job Title_Senior Marketing Analyst              -5131.8117   3748.946     -1.369      0.173   -1.25e+04    2262.112\n",
      "Job Title_Senior Marketing Coordinator          -1.049e+04   5479.545     -1.914      0.057   -2.13e+04     321.132\n",
      "Job Title_Senior Marketing Director              -1.28e+04   9422.423     -1.359      0.176   -3.14e+04    5780.977\n",
      "Job Title_Senior Marketing Manager               3101.6934   5824.753      0.533      0.595   -8386.278    1.46e+04\n",
      "Job Title_Senior Marketing Specialist           -1145.8022   4919.073     -0.233      0.816   -1.08e+04    8555.925\n",
      "Job Title_Senior Operations Analyst             -4826.4849   6256.628     -0.771      0.441   -1.72e+04    7513.259\n",
      "Job Title_Senior Operations Coordinator          2996.1578   4944.433      0.606      0.545   -6755.587    1.27e+04\n",
      "Job Title_Senior Operations Manager              3280.8830   6212.769      0.528      0.598   -8972.360    1.55e+04\n",
      "Job Title_Senior Product Designer                8243.4652   4854.912      1.698      0.091   -1331.721    1.78e+04\n",
      "Job Title_Senior Product Development Manager     8591.5777   9731.418      0.883      0.378   -1.06e+04    2.78e+04\n",
      "Job Title_Senior Product Manager                 1.444e+04   6061.687      2.382      0.018    2481.798    2.64e+04\n",
      "Job Title_Senior Product Marketing Manager      -7508.4901   9874.654     -0.760      0.448    -2.7e+04     1.2e+04\n",
      "Job Title_Senior Project Coordinator            -1.482e+04   4402.351     -3.367      0.001   -2.35e+04   -6140.067\n",
      "Job Title_Senior Project Manager                 4271.6608   6040.182      0.707      0.480   -7641.194    1.62e+04\n",
      "Job Title_Senior Quality Assurance Analyst       1.014e+04   8493.713      1.194      0.234   -6613.756    2.69e+04\n",
      "Job Title_Senior Research Scientist              3564.3600   9158.556      0.389      0.698   -1.45e+04    2.16e+04\n",
      "Job Title_Senior Researcher                      1803.8516   8966.173      0.201      0.841   -1.59e+04    1.95e+04\n",
      "Job Title_Senior Sales Manager                  -3225.5903   8040.545     -0.401      0.689   -1.91e+04    1.26e+04\n",
      "Job Title_Senior Sales Representative           -1.565e+04   6437.799     -2.431      0.016   -2.83e+04   -2950.718\n",
      "Job Title_Senior Scientist                      -2732.0751   5783.874     -0.472      0.637   -1.41e+04    8675.271\n",
      "Job Title_Senior Software Architect               1.44e+04   8767.748      1.643      0.102   -2888.047    3.17e+04\n",
      "Job Title_Senior Software Developer              7507.1897   5465.117      1.374      0.171   -3271.484    1.83e+04\n",
      "Job Title_Senior Software Engineer                887.7453   4542.743      0.195      0.845   -8071.760    9847.250\n",
      "Job Title_Senior Training Specialist            -1.594e+04   8668.049     -1.839      0.067    -3.3e+04    1152.510\n",
      "Job Title_Senior UX Designer                     1.411e+04   5743.703      2.456      0.015    2778.395    2.54e+04\n",
      "Job Title_Social Media Manager                  -1.322e+04   1.21e+04     -1.091      0.276   -3.71e+04    1.07e+04\n",
      "Job Title_Social Media Specialist               -1.538e+04   8777.874     -1.752      0.081   -3.27e+04    1929.243\n",
      "Job Title_Software Developer                     7380.5601   8876.875      0.831      0.407   -1.01e+04    2.49e+04\n",
      "Job Title_Software Engineer                      1.092e+04   8168.699      1.337      0.183   -5192.550     2.7e+04\n",
      "Job Title_Software Manager                       1.151e+04   1.23e+04      0.935      0.351   -1.28e+04    3.58e+04\n",
      "Job Title_Software Project Manager               2874.9428    1.2e+04      0.239      0.812   -2.09e+04    2.66e+04\n",
      "Job Title_Strategy Consultant                    2.068e+04   8913.080      2.320      0.021    3099.634    3.83e+04\n",
      "Job Title_Supply Chain Analyst                  -2954.7395   9165.805     -0.322      0.748    -2.1e+04    1.51e+04\n",
      "Job Title_Supply Chain Manager                  -1.399e+04   1.25e+04     -1.118      0.265   -3.87e+04    1.07e+04\n",
      "Job Title_Technical Recruiter                   -1.651e+04   8674.884     -1.903      0.059   -3.36e+04     602.114\n",
      "Job Title_Technical Support Specialist          -1.971e+04   8712.628     -2.262      0.025   -3.69e+04   -2525.164\n",
      "Job Title_Technical Writer                      -1.249e+04   8725.412     -1.431      0.154   -2.97e+04    4721.443\n",
      "Job Title_Training Specialist                   -3.336e+04   8763.694     -3.807      0.000   -5.06e+04   -1.61e+04\n",
      "Job Title_UX Designer                            -905.1981   8990.610     -0.101      0.920   -1.86e+04    1.68e+04\n",
      "Job Title_UX Researcher                          4158.1168   8931.114      0.466      0.642   -1.35e+04    2.18e+04\n",
      "Job Title_VP of Finance                          6.832e+04   9182.253      7.441      0.000    5.02e+04    8.64e+04\n",
      "Job Title_VP of Operations                       5.832e+04   9182.253      6.352      0.000    4.02e+04    7.64e+04\n",
      "Job Title_Web Developer                         -1.183e+04   8649.910     -1.368      0.173   -2.89e+04    5226.083\n",
      "==============================================================================\n",
      "Omnibus:                       16.139   Durbin-Watson:                   2.012\n",
      "Prob(Omnibus):                  0.000   Jarque-Bera (JB):               38.940\n",
      "Skew:                           0.072   Prob(JB):                     3.50e-09\n",
      "Kurtosis:                       4.576   Cond. No.                     1.95e+18\n",
      "==============================================================================\n",
      "\n",
      "Notes:\n",
      "[1] Standard Errors assume that the covariance matrix of the errors is correctly specified.\n",
      "[2] The smallest eigenvalue is 1.55e-31. This might indicate that there are\n",
      "strong multicollinearity problems or that the design matrix is singular.\n"
     ]
    }
   ],
   "source": [
    "import statsmodels.api as sm\n",
    "# Create dummy variables for categorical features\n",
    "df_encoded = pd.get_dummies(df, columns=['Gender', 'Education Level', 'Job Title'], drop_first=True)\n",
    "\n",
    "# Convert boolean columns to integers (if any)\n",
    "for col in df_encoded.select_dtypes(include=['bool']).columns:\n",
    "    df_encoded[col] = df_encoded[col].astype(int)\n",
    "\n",
    "# Define the dependent variable (Salary) and independent variables\n",
    "X = df_encoded.drop('Salary', axis=1)  # Independent variables\n",
    "y = df_encoded['Salary']  # Dependent variable\n",
    "\n",
    "# Add a constant to the model (intercept)\n",
    "X = sm.add_constant(X)\n",
    "\n",
    "# Fit the linear model\n",
    "model = sm.OLS(y, X).fit()\n",
    "\n",
    "# Display the summary of the model\n",
    "print(model.summary())"
   ]
  },
  {
   "cell_type": "markdown",
   "metadata": {},
   "source": [
    "<a id='interpretation'></a>\n",
    "### Part III - Interpret Results\n",
    "\n",
    "`1.` Consider you are tasked with finding which features in your linear model are significantly related to salary.  Were there any features that were not significantly related to salary in your first model?  If not, remove those features and fit a new model.  Only keep the features that were significant from the original model."
   ]
  },
  {
   "cell_type": "code",
   "execution_count": 18,
   "metadata": {},
   "outputs": [
    {
     "name": "stdout",
     "output_type": "stream",
     "text": [
      "Data types before conversion:\n",
      "Age                             int64\n",
      "Years of Experience           float64\n",
      "is_Director                      bool\n",
      "is_Junior                        bool\n",
      "is_Senior                        bool\n",
      "                               ...   \n",
      "Job Title_UX Designer           uint8\n",
      "Job Title_UX Researcher         uint8\n",
      "Job Title_VP of Finance         uint8\n",
      "Job Title_VP of Operations      uint8\n",
      "Job Title_Web Developer         uint8\n",
      "Length: 185, dtype: object\n",
      "                            OLS Regression Results                            \n",
      "==============================================================================\n",
      "Dep. Variable:                 Salary   R-squared:                       0.984\n",
      "Model:                            OLS   Adj. R-squared:                  0.969\n",
      "Method:                 Least Squares   F-statistic:                     66.40\n",
      "Date:                Tue, 01 Jul 2025   Prob (F-statistic):          8.65e-121\n",
      "Time:                        10:36:22   Log-Likelihood:                -3781.7\n",
      "No. Observations:                 373   AIC:                             7921.\n",
      "Df Residuals:                     194   BIC:                             8623.\n",
      "Df Model:                         178                                         \n",
      "Covariance Type:            nonrobust                                         \n",
      "===================================================================================================================\n",
      "                                                      coef    std err          t      P>|t|      [0.025      0.975]\n",
      "-------------------------------------------------------------------------------------------------------------------\n",
      "const                                           -6329.4619   1.29e+04     -0.492      0.623   -3.17e+04    1.91e+04\n",
      "Age                                              2221.3914    474.428      4.682      0.000    1285.693    3157.090\n",
      "Years of Experience                              1504.5251    581.326      2.588      0.010     357.994    2651.056\n",
      "is_Director                                      3.805e+04   3642.392     10.446      0.000    3.09e+04    4.52e+04\n",
      "is_Junior                                       -1.742e+04   3366.491     -5.174      0.000   -2.41e+04   -1.08e+04\n",
      "is_Senior                                        1.118e+04   4032.521      2.772      0.006    3224.771    1.91e+04\n",
      "is_Manager                                       1892.0632   6782.505      0.279      0.781   -1.15e+04    1.53e+04\n",
      "is_Analyst                                      -4884.9195   1590.783     -3.071      0.002   -8022.369   -1747.470\n",
      "is_Engineer                                      5973.7535   2462.879      2.426      0.016    1116.297    1.08e+04\n",
      "is_male                                           415.1244    724.150      0.573      0.567   -1013.092    1843.341\n",
      "Gender_Male                                       415.1244    724.150      0.573      0.567   -1013.092    1843.341\n",
      "Education Level_Master's                         4184.7274   2349.575      1.781      0.076    -449.263    8818.717\n",
      "Education Level_PhD                              1.325e+04   3679.170      3.602      0.000    5995.618    2.05e+04\n",
      "Job Title_Accountant                            -1.355e+04   8713.544     -1.555      0.122   -3.07e+04    3633.668\n",
      "Job Title_Administrative Assistant              -4.051e+04   6396.354     -6.334      0.000   -5.31e+04   -2.79e+04\n",
      "Job Title_Business Analyst                       2763.1313   6283.870      0.440      0.661   -9630.341    1.52e+04\n",
      "Job Title_Business Development Manager           1858.9147   1.22e+04      0.152      0.879   -2.22e+04    2.59e+04\n",
      "Job Title_Business Intelligence Analyst          7361.8138   8598.038      0.856      0.393   -9595.816    2.43e+04\n",
      "Job Title_CEO                                    1.068e+05   9871.410     10.821      0.000    8.73e+04    1.26e+05\n",
      "Job Title_Chief Data Officer                     9.043e+04   9289.749      9.735      0.000    7.21e+04    1.09e+05\n",
      "Job Title_Chief Technology Officer               9.063e+04   9720.658      9.323      0.000    7.15e+04     1.1e+05\n",
      "Job Title_Content Marketing Manager             -1.172e+04   1.21e+04     -0.968      0.334   -3.56e+04    1.22e+04\n",
      "Job Title_Copywriter                            -1.888e+04   8774.156     -2.152      0.033   -3.62e+04   -1573.565\n",
      "Job Title_Creative Director                     -3.027e+04   8362.727     -3.619      0.000   -4.68e+04   -1.38e+04\n",
      "Job Title_Customer Service Manager              -1.465e+04   1.08e+04     -1.362      0.175   -3.59e+04    6572.770\n",
      "Job Title_Customer Service Rep                  -1.749e+04   8725.412     -2.004      0.046   -3.47e+04    -278.557\n",
      "Job Title_Customer Service Representative       -2.506e+04   8708.361     -2.877      0.004   -4.22e+04   -7881.079\n",
      "Job Title_Customer Success Manager               -2.16e+04    1.2e+04     -1.796      0.074   -4.53e+04    2126.450\n",
      "Job Title_Customer Success Rep                  -1.293e+04   8836.111     -1.463      0.145   -3.04e+04    4495.935\n",
      "Job Title_Data Analyst                          -9144.5495   6537.917     -1.399      0.164    -2.2e+04    3749.972\n",
      "Job Title_Data Entry Clerk                      -1.421e+04   8875.331     -1.601      0.111   -3.17e+04    3299.205\n",
      "Job Title_Data Scientist                         7380.5601   8876.875      0.831      0.407   -1.01e+04    2.49e+04\n",
      "Job Title_Digital Content Producer              -1.483e+04   8738.509     -1.697      0.091   -3.21e+04    2408.822\n",
      "Job Title_Digital Marketing Manager             -9205.4522   1.23e+04     -0.748      0.455   -3.35e+04    1.51e+04\n",
      "Job Title_Director                               1.766e+04   8549.312      2.066      0.040     801.959    3.45e+04\n",
      "Job Title_Director of Business Development        274.9701   8278.438      0.033      0.974   -1.61e+04    1.66e+04\n",
      "Job Title_Director of Engineering                1236.7463   5761.147      0.215      0.830   -1.01e+04    1.26e+04\n",
      "Job Title_Director of Finance                     853.4823   6008.956      0.142      0.887    -1.1e+04    1.27e+04\n",
      "Job Title_Director of HR                         7379.3025   8294.932      0.890      0.375   -8980.523    2.37e+04\n",
      "Job Title_Director of Human Capital              3653.3860   8309.138      0.440      0.661   -1.27e+04       2e+04\n",
      "Job Title_Director of Human Resources             672.4791   6073.283      0.111      0.912   -1.13e+04    1.27e+04\n",
      "Job Title_Director of Marketing                  4575.9343   3035.096      1.508      0.133   -1410.087    1.06e+04\n",
      "Job Title_Director of Operations                -3978.5298   3037.568     -1.310      0.192   -9969.427    2012.368\n",
      "Job Title_Director of Product Management           44.5285   8309.848      0.005      0.996   -1.63e+04    1.64e+04\n",
      "Job Title_Director of Sales                      9717.7528   8302.425      1.170      0.243   -6656.850    2.61e+04\n",
      "Job Title_Director of Sales and Marketing       -9139.7286   8596.519     -1.063      0.289   -2.61e+04    7814.907\n",
      "Job Title_Event Coordinator                     -3.282e+04   6373.309     -5.149      0.000   -4.54e+04   -2.02e+04\n",
      "Job Title_Financial Advisor                      6572.1766   8839.001      0.744      0.458   -1.09e+04     2.4e+04\n",
      "Job Title_Financial Analyst                     -1.139e+04   8468.608     -1.345      0.180   -2.81e+04    5310.644\n",
      "Job Title_Financial Manager                      2.879e+04   1.23e+04      2.335      0.021    4475.121    5.31e+04\n",
      "Job Title_Graphic Designer                       -1.26e+04   8745.354     -1.441      0.151   -2.99e+04    4643.714\n",
      "Job Title_HR Generalist                         -2.352e+04   6452.577     -3.645      0.000   -3.62e+04   -1.08e+04\n",
      "Job Title_HR Manager                            -5871.6984   1.07e+04     -0.547      0.585    -2.7e+04    1.53e+04\n",
      "Job Title_Help Desk Analyst                     -1.015e+04   8579.439     -1.183      0.238   -2.71e+04    6770.297\n",
      "Job Title_Human Resources Director               7379.3025   8294.932      0.890      0.375   -8980.523    2.37e+04\n",
      "Job Title_IT Manager                            -7162.8303   1.25e+04     -0.573      0.567   -3.18e+04    1.75e+04\n",
      "Job Title_IT Support                            -1.415e+04   8764.387     -1.615      0.108   -3.14e+04    3134.138\n",
      "Job Title_IT Support Specialist                   -2.5e+04   8722.214     -2.867      0.005   -4.22e+04   -7800.014\n",
      "Job Title_Junior Account Manager                  644.3085   8190.129      0.079      0.937   -1.55e+04    1.68e+04\n",
      "Job Title_Junior Accountant                      -384.2560   5120.020     -0.075      0.940   -1.05e+04    9713.794\n",
      "Job Title_Junior Advertising Coordinator        -3237.1860   8433.856     -0.384      0.702   -1.99e+04    1.34e+04\n",
      "Job Title_Junior Business Analyst                4798.0489   3443.485      1.393      0.165   -1993.425    1.16e+04\n",
      "Job Title_Junior Business Development Associate -3430.0219   3534.868     -0.970      0.333   -1.04e+04    3541.684\n",
      "Job Title_Junior Business Operations Analyst     -2.12e+04   5948.155     -3.564      0.000   -3.29e+04   -9467.734\n",
      "Job Title_Junior Copywriter                     -2406.9371   8410.021     -0.286      0.775    -1.9e+04    1.42e+04\n",
      "Job Title_Junior Customer Support Specialist    -2847.0953   8501.396     -0.335      0.738   -1.96e+04    1.39e+04\n",
      "Job Title_Junior Data Analyst                   -2698.7150   8243.917     -0.327      0.744    -1.9e+04    1.36e+04\n",
      "Job Title_Junior Data Scientist                  4550.6887   8640.611      0.527      0.599   -1.25e+04    2.16e+04\n",
      "Job Title_Junior Designer                       -3681.0206   8415.709     -0.437      0.662   -2.03e+04    1.29e+04\n",
      "Job Title_Junior Developer                       8100.2125   8573.243      0.945      0.346   -8808.516     2.5e+04\n",
      "Job Title_Junior Financial Advisor               1.082e+04   8463.599      1.278      0.203   -5876.975    2.75e+04\n",
      "Job Title_Junior Financial Analyst               5946.1595   3534.805      1.682      0.094   -1025.422    1.29e+04\n",
      "Job Title_Junior HR Coordinator                 -3517.6328   6079.702     -0.579      0.564   -1.55e+04    8473.166\n",
      "Job Title_Junior HR Generalist                  -1074.3241   6051.778     -0.178      0.859    -1.3e+04    1.09e+04\n",
      "Job Title_Junior Marketing Analyst               9023.9251   5056.551      1.785      0.076    -948.946     1.9e+04\n",
      "Job Title_Junior Marketing Coordinator          -1513.8280   3801.122     -0.398      0.691   -9010.658    5983.002\n",
      "Job Title_Junior Marketing Manager               4992.6473   7529.456      0.663      0.508   -9857.454    1.98e+04\n",
      "Job Title_Junior Marketing Specialist            3806.6106   4033.078      0.944      0.346   -4147.699    1.18e+04\n",
      "Job Title_Junior Operations Analyst              4561.9009   4000.859      1.140      0.256   -3328.863    1.25e+04\n",
      "Job Title_Junior Operations Coordinator         -5902.4120   8430.014     -0.700      0.485   -2.25e+04    1.07e+04\n",
      "Job Title_Junior Operations Manager              1960.8866   7462.560      0.263      0.793   -1.28e+04    1.67e+04\n",
      "Job Title_Junior Product Manager                 2591.7491   7075.007      0.366      0.715   -1.14e+04    1.65e+04\n",
      "Job Title_Junior Project Manager                -1585.0115   6822.686     -0.232      0.817    -1.5e+04    1.19e+04\n",
      "Job Title_Junior Recruiter                       -185.5457   8425.552     -0.022      0.982   -1.68e+04    1.64e+04\n",
      "Job Title_Junior Research Scientist              7329.2973   8632.011      0.849      0.397   -9695.338    2.44e+04\n",
      "Job Title_Junior Sales Representative           -4463.4273   4459.230     -1.001      0.318   -1.33e+04    4331.367\n",
      "Job Title_Junior Social Media Manager           -4299.0003      1e+04     -0.428      0.669   -2.41e+04    1.55e+04\n",
      "Job Title_Junior Social Media Specialist        -4628.3285   8421.232     -0.550      0.583   -2.12e+04     1.2e+04\n",
      "Job Title_Junior Software Developer             -4626.4903   6103.549     -0.758      0.449   -1.67e+04    7411.342\n",
      "Job Title_Junior Software Engineer              -8263.6316   7898.257     -1.046      0.297   -2.38e+04    7313.845\n",
      "Job Title_Junior UX Designer                     2329.2973   8632.011      0.270      0.788   -1.47e+04    1.94e+04\n",
      "Job Title_Junior Web Designer                   -1015.7946   8431.890     -0.120      0.904   -1.76e+04    1.56e+04\n",
      "Job Title_Junior Web Developer                  -7910.4102   8471.891     -0.934      0.352   -2.46e+04    8798.426\n",
      "Job Title_Marketing Analyst                     -5297.5305   6294.025     -0.842      0.401   -1.77e+04    7115.971\n",
      "Job Title_Marketing Coordinator                 -1.509e+04   5454.479     -2.766      0.006   -2.58e+04   -4330.717\n",
      "Job Title_Marketing Manager                      6415.0800   1.23e+04      0.523      0.602   -1.78e+04    3.06e+04\n",
      "Job Title_Marketing Specialist                  -3.035e+04   8731.293     -3.476      0.001   -4.76e+04   -1.31e+04\n",
      "Job Title_Network Engineer                      -1.163e+04   8220.939     -1.415      0.159   -2.78e+04    4584.033\n",
      "Job Title_Office Manager                        -4.199e+04   1.24e+04     -3.380      0.001   -6.65e+04   -1.75e+04\n",
      "Job Title_Operations Analyst                    -9668.9813   9103.070     -1.062      0.289   -2.76e+04    8284.707\n",
      "Job Title_Operations Director                    1.956e+04   8366.625      2.338      0.020    3056.881    3.61e+04\n",
      "Job Title_Operations Manager                     1.353e+04   1.09e+04      1.238      0.217   -8030.170    3.51e+04\n",
      "Job Title_Principal Engineer                     1.956e+04   8634.364      2.265      0.025    2526.971    3.66e+04\n",
      "Job Title_Principal Scientist                    1.573e+04   9138.571      1.721      0.087   -2296.285    3.38e+04\n",
      "Job Title_Product Designer                       8981.4194   8837.168      1.016      0.311   -8447.839    2.64e+04\n",
      "Job Title_Product Manager                        1.252e+04   1.07e+04      1.166      0.245   -8658.549    3.37e+04\n",
      "Job Title_Product Marketing Manager              4637.5233   1.22e+04      0.379      0.705   -1.95e+04    2.87e+04\n",
      "Job Title_Project Engineer                      -4021.0572   8346.501     -0.482      0.631   -2.05e+04    1.24e+04\n",
      "Job Title_Project Manager                        1.085e+04   1.06e+04      1.026      0.306      -1e+04    3.17e+04\n",
      "Job Title_Public Relations Manager              -9205.4522   1.23e+04     -0.748      0.455   -3.35e+04    1.51e+04\n",
      "Job Title_Recruiter                             -2.702e+04   6398.172     -4.223      0.000   -3.96e+04   -1.44e+04\n",
      "Job Title_Research Director                      2.016e+04   8737.626      2.308      0.022    2931.193    3.74e+04\n",
      "Job Title_Research Scientist                     1.474e+04   9583.175      1.538      0.126   -4158.243    3.36e+04\n",
      "Job Title_Sales Associate                       -2.339e+04   6389.242     -3.661      0.000    -3.6e+04   -1.08e+04\n",
      "Job Title_Sales Director                         1060.5567   8559.513      0.124      0.902   -1.58e+04    1.79e+04\n",
      "Job Title_Sales Executive                        2.506e+04   9318.580      2.689      0.008    6677.275    4.34e+04\n",
      "Job Title_Sales Manager                          -205.2384   9904.029     -0.021      0.983   -1.97e+04    1.93e+04\n",
      "Job Title_Sales Operations Manager              -1.344e+04   1.24e+04     -1.082      0.281   -3.79e+04    1.11e+04\n",
      "Job Title_Sales Representative                  -2.004e+04   8792.543     -2.279      0.024   -3.74e+04   -2694.325\n",
      "Job Title_Senior Account Executive              -1.454e+04   8719.771     -1.667      0.097   -3.17e+04    2660.637\n",
      "Job Title_Senior Account Manager                -6659.5886   9919.449     -0.671      0.503   -2.62e+04    1.29e+04\n",
      "Job Title_Senior Accountant                     -1.524e+04   6421.791     -2.374      0.019   -2.79e+04   -2578.098\n",
      "Job Title_Senior Business Analyst                9420.2437   3445.107      2.734      0.007    2625.571    1.62e+04\n",
      "Job Title_Senior Business Development Manager    7872.1716   6500.153      1.211      0.227   -4947.869    2.07e+04\n",
      "Job Title_Senior Consultant                      3811.8499   8841.625      0.431      0.667   -1.36e+04    2.12e+04\n",
      "Job Title_Senior Data Analyst                    1.293e+04   5813.172      2.224      0.027    1465.614    2.44e+04\n",
      "Job Title_Senior Data Engineer                   7586.3598   5029.774      1.508      0.133   -2333.700    1.75e+04\n",
      "Job Title_Senior Data Scientist                  1.662e+04   4459.644      3.727      0.000    7827.071    2.54e+04\n",
      "Job Title_Senior Engineer                        -1.03e+04   6293.133     -1.636      0.103   -2.27e+04    2114.635\n",
      "Job Title_Senior Financial Advisor               -254.3706   5703.645     -0.045      0.964   -1.15e+04     1.1e+04\n",
      "Job Title_Senior Financial Analyst               1.064e+04   3852.437      2.761      0.006    3037.228    1.82e+04\n",
      "Job Title_Senior Financial Manager               1050.2426   6334.210      0.166      0.868   -1.14e+04    1.35e+04\n",
      "Job Title_Senior Graphic Designer                -1.49e+04   8668.213     -1.719      0.087    -3.2e+04    2196.475\n",
      "Job Title_Senior HR Generalist                  -9765.4533   8726.394     -1.119      0.264    -2.7e+04    7445.330\n",
      "Job Title_Senior HR Manager                      8291.3612   7199.672      1.152      0.251   -5908.318    2.25e+04\n",
      "Job Title_Senior HR Specialist                   1.066e+04   8702.511      1.225      0.222   -6506.024    2.78e+04\n",
      "Job Title_Senior Human Resources Coordinator    -2.431e+04   8694.129     -2.796      0.006   -4.15e+04   -7159.494\n",
      "Job Title_Senior Human Resources Manager         7328.1220   7937.003      0.923      0.357   -8325.770     2.3e+04\n",
      "Job Title_Senior Human Resources Specialist      2552.2723   8652.270      0.295      0.768   -1.45e+04    1.96e+04\n",
      "Job Title_Senior IT Consultant                   2182.9064   6611.493      0.330      0.742   -1.09e+04    1.52e+04\n",
      "Job Title_Senior IT Project Manager              5845.9884   9742.264      0.600      0.549   -1.34e+04    2.51e+04\n",
      "Job Title_Senior IT Support Specialist          -1.448e+04   8780.222     -1.650      0.101   -3.18e+04    2833.607\n",
      "Job Title_Senior Manager                         1.177e+04   8227.007      1.431      0.154   -4451.112     2.8e+04\n",
      "Job Title_Senior Marketing Analyst              -5131.8117   3748.946     -1.369      0.173   -1.25e+04    2262.112\n",
      "Job Title_Senior Marketing Coordinator          -1.049e+04   5479.545     -1.914      0.057   -2.13e+04     321.132\n",
      "Job Title_Senior Marketing Director              -1.28e+04   9422.423     -1.359      0.176   -3.14e+04    5780.977\n",
      "Job Title_Senior Marketing Manager               3101.6934   5824.753      0.533      0.595   -8386.278    1.46e+04\n",
      "Job Title_Senior Marketing Specialist           -1145.8022   4919.073     -0.233      0.816   -1.08e+04    8555.925\n",
      "Job Title_Senior Operations Analyst             -4826.4849   6256.628     -0.771      0.441   -1.72e+04    7513.259\n",
      "Job Title_Senior Operations Coordinator          2996.1578   4944.433      0.606      0.545   -6755.587    1.27e+04\n",
      "Job Title_Senior Operations Manager              3280.8830   6212.769      0.528      0.598   -8972.360    1.55e+04\n",
      "Job Title_Senior Product Designer                8243.4652   4854.912      1.698      0.091   -1331.721    1.78e+04\n",
      "Job Title_Senior Product Development Manager     8591.5777   9731.418      0.883      0.378   -1.06e+04    2.78e+04\n",
      "Job Title_Senior Product Manager                 1.444e+04   6061.687      2.382      0.018    2481.798    2.64e+04\n",
      "Job Title_Senior Product Marketing Manager      -7508.4901   9874.654     -0.760      0.448    -2.7e+04     1.2e+04\n",
      "Job Title_Senior Project Coordinator            -1.482e+04   4402.351     -3.367      0.001   -2.35e+04   -6140.067\n",
      "Job Title_Senior Project Manager                 4271.6608   6040.182      0.707      0.480   -7641.194    1.62e+04\n",
      "Job Title_Senior Quality Assurance Analyst       1.014e+04   8493.713      1.194      0.234   -6613.756    2.69e+04\n",
      "Job Title_Senior Research Scientist              3564.3600   9158.556      0.389      0.698   -1.45e+04    2.16e+04\n",
      "Job Title_Senior Researcher                      1803.8516   8966.173      0.201      0.841   -1.59e+04    1.95e+04\n",
      "Job Title_Senior Sales Manager                  -3225.5903   8040.545     -0.401      0.689   -1.91e+04    1.26e+04\n",
      "Job Title_Senior Sales Representative           -1.565e+04   6437.799     -2.431      0.016   -2.83e+04   -2950.718\n",
      "Job Title_Senior Scientist                      -2732.0751   5783.874     -0.472      0.637   -1.41e+04    8675.271\n",
      "Job Title_Senior Software Architect               1.44e+04   8767.748      1.643      0.102   -2888.047    3.17e+04\n",
      "Job Title_Senior Software Developer              7507.1897   5465.117      1.374      0.171   -3271.484    1.83e+04\n",
      "Job Title_Senior Software Engineer                887.7453   4542.743      0.195      0.845   -8071.760    9847.250\n",
      "Job Title_Senior Training Specialist            -1.594e+04   8668.049     -1.839      0.067    -3.3e+04    1152.510\n",
      "Job Title_Senior UX Designer                     1.411e+04   5743.703      2.456      0.015    2778.395    2.54e+04\n",
      "Job Title_Social Media Manager                  -1.322e+04   1.21e+04     -1.091      0.276   -3.71e+04    1.07e+04\n",
      "Job Title_Social Media Specialist               -1.538e+04   8777.874     -1.752      0.081   -3.27e+04    1929.243\n",
      "Job Title_Software Developer                     7380.5601   8876.875      0.831      0.407   -1.01e+04    2.49e+04\n",
      "Job Title_Software Engineer                      1.092e+04   8168.699      1.337      0.183   -5192.550     2.7e+04\n",
      "Job Title_Software Manager                       1.151e+04   1.23e+04      0.935      0.351   -1.28e+04    3.58e+04\n",
      "Job Title_Software Project Manager               2874.9428    1.2e+04      0.239      0.812   -2.09e+04    2.66e+04\n",
      "Job Title_Strategy Consultant                    2.068e+04   8913.080      2.320      0.021    3099.634    3.83e+04\n",
      "Job Title_Supply Chain Analyst                  -2954.7395   9165.805     -0.322      0.748    -2.1e+04    1.51e+04\n",
      "Job Title_Supply Chain Manager                  -1.399e+04   1.25e+04     -1.118      0.265   -3.87e+04    1.07e+04\n",
      "Job Title_Technical Recruiter                   -1.651e+04   8674.884     -1.903      0.059   -3.36e+04     602.114\n",
      "Job Title_Technical Support Specialist          -1.971e+04   8712.628     -2.262      0.025   -3.69e+04   -2525.164\n",
      "Job Title_Technical Writer                      -1.249e+04   8725.412     -1.431      0.154   -2.97e+04    4721.443\n",
      "Job Title_Training Specialist                   -3.336e+04   8763.694     -3.807      0.000   -5.06e+04   -1.61e+04\n",
      "Job Title_UX Designer                            -905.1981   8990.610     -0.101      0.920   -1.86e+04    1.68e+04\n",
      "Job Title_UX Researcher                          4158.1168   8931.114      0.466      0.642   -1.35e+04    2.18e+04\n",
      "Job Title_VP of Finance                          6.832e+04   9182.253      7.441      0.000    5.02e+04    8.64e+04\n",
      "Job Title_VP of Operations                       5.832e+04   9182.253      6.352      0.000    4.02e+04    7.64e+04\n",
      "Job Title_Web Developer                         -1.183e+04   8649.910     -1.368      0.173   -2.89e+04    5226.083\n",
      "==============================================================================\n",
      "Omnibus:                       16.139   Durbin-Watson:                   2.012\n",
      "Prob(Omnibus):                  0.000   Jarque-Bera (JB):               38.940\n",
      "Skew:                           0.072   Prob(JB):                     3.50e-09\n",
      "Kurtosis:                       4.576   Cond. No.                     1.95e+18\n",
      "==============================================================================\n",
      "\n",
      "Notes:\n",
      "[1] Standard Errors assume that the covariance matrix of the errors is correctly specified.\n",
      "[2] The smallest eigenvalue is 1.55e-31. This might indicate that there are\n",
      "strong multicollinearity problems or that the design matrix is singular.\n"
     ]
    },
    {
     "name": "stdout",
     "output_type": "stream",
     "text": [
      "                            OLS Regression Results                            \n",
      "==============================================================================\n",
      "Dep. Variable:                 Salary   R-squared:                       0.966\n",
      "Model:                            OLS   Adj. R-squared:                  0.961\n",
      "Method:                 Least Squares   F-statistic:                     195.5\n",
      "Date:                Tue, 01 Jul 2025   Prob (F-statistic):          1.10e-210\n",
      "Time:                        10:36:22   Log-Likelihood:                -3921.4\n",
      "No. Observations:                 373   AIC:                             7939.\n",
      "Df Residuals:                     325   BIC:                             8127.\n",
      "Df Model:                          47                                         \n",
      "Covariance Type:            nonrobust                                         \n",
      "================================================================================================================\n",
      "                                                   coef    std err          t      P>|t|      [0.025      0.975]\n",
      "----------------------------------------------------------------------------------------------------------------\n",
      "const                                        -3940.8922   9949.151     -0.396      0.692   -2.35e+04    1.56e+04\n",
      "Age                                           2010.2456    375.799      5.349      0.000    1270.939    2749.552\n",
      "Years of Experience                           2131.8378    434.954      4.901      0.000    1276.157    2987.519\n",
      "is_Director                                   3.779e+04   2533.398     14.915      0.000    3.28e+04    4.28e+04\n",
      "is_Junior                                     -1.32e+04   1830.303     -7.215      0.000   -1.68e+04   -9604.039\n",
      "is_Senior                                     1.381e+04   1631.782      8.462      0.000    1.06e+04     1.7e+04\n",
      "is_Analyst                                   -5097.0269   1581.793     -3.222      0.001   -8208.873   -1985.181\n",
      "is_Engineer                                   4978.0662   2413.402      2.063      0.040     230.205    9725.928\n",
      "Education Level_PhD                           1.131e+04   2000.116      5.654      0.000    7374.542    1.52e+04\n",
      "Job Title_Administrative Assistant           -4.063e+04   6892.468     -5.895      0.000   -5.42e+04   -2.71e+04\n",
      "Job Title_CEO                                 1.001e+05   9988.562     10.025      0.000    8.05e+04     1.2e+05\n",
      "Job Title_Chief Data Officer                  9.007e+04   9814.905      9.177      0.000    7.08e+04    1.09e+05\n",
      "Job Title_Chief Technology Officer            8.693e+04   9925.631      8.759      0.000    6.74e+04    1.06e+05\n",
      "Job Title_Copywriter                         -1.661e+04   9674.645     -1.717      0.087   -3.56e+04    2423.174\n",
      "Job Title_Creative Director                  -2.812e+04   9708.231     -2.897      0.004   -4.72e+04   -9021.916\n",
      "Job Title_Customer Service Rep                -1.46e+04   9685.027     -1.507      0.133   -3.37e+04    4453.844\n",
      "Job Title_Customer Service Representative    -2.404e+04   9640.790     -2.493      0.013    -4.3e+04   -5069.679\n",
      "Job Title_Director                            1.899e+04   9813.002      1.935      0.054    -319.325    3.83e+04\n",
      "Job Title_Event Coordinator                  -3.304e+04   6864.649     -4.814      0.000   -4.65e+04   -1.95e+04\n",
      "Job Title_Financial Manager                   3.381e+04   9647.732      3.504      0.001    1.48e+04    5.28e+04\n",
      "Job Title_HR Generalist                      -2.489e+04   6874.576     -3.621      0.000   -3.84e+04   -1.14e+04\n",
      "Job Title_IT Support Specialist              -2.335e+04   9666.776     -2.416      0.016   -4.24e+04   -4333.462\n",
      "Job Title_Junior Business Operations Analyst -2.158e+04   6919.665     -3.118      0.002   -3.52e+04   -7964.194\n",
      "Job Title_Marketing Coordinator              -1.351e+04   5703.712     -2.369      0.018   -2.47e+04   -2292.276\n",
      "Job Title_Marketing Specialist               -3.078e+04   9656.236     -3.187      0.002   -4.98e+04   -1.18e+04\n",
      "Job Title_Office Manager                     -4.345e+04   9707.486     -4.476      0.000   -6.25e+04   -2.43e+04\n",
      "Job Title_Operations Director                 2.129e+04   9721.484      2.190      0.029    2165.374    4.04e+04\n",
      "Job Title_Principal Engineer                  1.852e+04      1e+04      1.847      0.066   -1202.021    3.83e+04\n",
      "Job Title_Recruiter                          -2.776e+04   6869.772     -4.041      0.000   -4.13e+04   -1.42e+04\n",
      "Job Title_Research Director                   2.028e+04   9897.689      2.049      0.041     803.791    3.97e+04\n",
      "Job Title_Sales Associate                    -2.205e+04   6897.044     -3.197      0.002   -3.56e+04   -8482.792\n",
      "Job Title_Sales Executive                     2.067e+04   9788.454      2.112      0.035    1413.535    3.99e+04\n",
      "Job Title_Sales Representative               -1.632e+04   9716.540     -1.679      0.094   -3.54e+04    2800.005\n",
      "Job Title_Senior Accountant                  -1.737e+04   6845.570     -2.537      0.012   -3.08e+04   -3899.681\n",
      "Job Title_Senior Business Analyst             7845.0906   3468.392      2.262      0.024    1021.758    1.47e+04\n",
      "Job Title_Senior Data Analyst                 9456.7986   5997.317      1.577      0.116   -2341.663    2.13e+04\n",
      "Job Title_Senior Data Scientist               1.268e+04   4041.060      3.137      0.002    4728.208    2.06e+04\n",
      "Job Title_Senior Financial Analyst            9787.5376   3983.486      2.457      0.015    1950.866    1.76e+04\n",
      "Job Title_Senior Human Resources Coordinator -2.757e+04   9598.091     -2.873      0.004   -4.65e+04   -8692.678\n",
      "Job Title_Senior Product Manager              1.403e+04   4043.026      3.470      0.001    6077.161     2.2e+04\n",
      "Job Title_Senior Project Coordinator         -1.726e+04   4394.129     -3.927      0.000   -2.59e+04   -8611.530\n",
      "Job Title_Senior Sales Representative        -1.985e+04   6829.113     -2.907      0.004   -3.33e+04   -6419.104\n",
      "Job Title_Senior UX Designer                  1.063e+04   5820.097      1.827      0.069    -816.127    2.21e+04\n",
      "Job Title_Strategy Consultant                 2.381e+04   9647.732      2.468      0.014    4827.044    4.28e+04\n",
      "Job Title_Technical Support Specialist       -1.661e+04   9674.645     -1.717      0.087   -3.56e+04    2423.174\n",
      "Job Title_Training Specialist                -3.504e+04   9634.829     -3.637      0.000    -5.4e+04   -1.61e+04\n",
      "Job Title_VP of Finance                       6.895e+04   9739.543      7.080      0.000    4.98e+04    8.81e+04\n",
      "Job Title_VP of Operations                    5.895e+04   9739.543      6.053      0.000    3.98e+04    7.81e+04\n",
      "==============================================================================\n",
      "Omnibus:                        0.231   Durbin-Watson:                   1.914\n",
      "Prob(Omnibus):                  0.891   Jarque-Bera (JB):                0.349\n",
      "Skew:                           0.035   Prob(JB):                        0.840\n",
      "Kurtosis:                       2.867   Cond. No.                         940.\n",
      "==============================================================================\n",
      "\n",
      "Notes:\n",
      "[1] Standard Errors assume that the covariance matrix of the errors is correctly specified.\n"
     ]
    }
   ],
   "source": [
    "# explain your answer and fit a new model with the reduced set of features here\n",
    "# Create dummy variables for categorical features\n",
    "df_encoded = pd.get_dummies(df, columns=['Gender', 'Education Level', 'Job Title'], drop_first=True)\n",
    "\n",
    "# Define the dependent variable (Salary) and independent variables\n",
    "X = df_encoded.drop('Salary', axis=1)  # Independent variables\n",
    "y = df_encoded['Salary']  # Dependent variable\n",
    "\n",
    "# Check data types\n",
    "print(\"Data types before conversion:\")\n",
    "print(X.dtypes)\n",
    "\n",
    "# Convert boolean columns to integers if any\n",
    "for col in X.select_dtypes(include=['bool']).columns:\n",
    "    X[col] = X[col].astype(int)\n",
    "\n",
    "# Check for NaN values\n",
    "if X.isnull().values.any() or y.isnull().values.any():\n",
    "    print(\"There are NaN values in the data.\")\n",
    "else:\n",
    "    # Add a constant to the model (intercept)\n",
    "    X = sm.add_constant(X)\n",
    "\n",
    "    # Fit the linear model\n",
    "    model = sm.OLS(y, X).fit()\n",
    "\n",
    "    # Display the summary of the model\n",
    "    print(model.summary())\n",
    "\n",
    "    # Identify features with p-values greater than 0.05\n",
    "    insignificant_features = model.pvalues[model.pvalues > 0.05].index.tolist()\n",
    "\n",
    "    # Remove the intercept from the list if it's included\n",
    "    if 'const' in insignificant_features:\n",
    "        insignificant_features.remove('const')\n",
    "\n",
    "    # Create a new DataFrame without insignificant features\n",
    "    X_reduced = X.drop(columns=insignificant_features)\n",
    "\n",
    "    # Fit a new model with only significant features\n",
    "    new_model = sm.OLS(y, X_reduced).fit()\n",
    "\n",
    "    # Display the summary of the new model\n",
    "    print(new_model.summary())"
   ]
  },
  {
   "cell_type": "markdown",
   "metadata": {},
   "source": [
    "`a)` With each additional year of experience, what is the expected change in salary?  What is the 95% confidence interval of the change?"
   ]
  },
  {
   "cell_type": "markdown",
   "metadata": {
    "collapsed": true,
    "jupyter": {
     "outputs_hidden": true
    }
   },
   "source": [
    "$581.33, 95%  confidence interval = 0.010"
   ]
  },
  {
   "cell_type": "markdown",
   "metadata": {},
   "source": [
    "`b)` What is the expected difference in salary between someone with a senior title and someone with none of the other title indications?"
   ]
  },
  {
   "cell_type": "markdown",
   "metadata": {
    "collapsed": true,
    "jupyter": {
     "outputs_hidden": true
    }
   },
   "source": [
    "$11,180.00"
   ]
  },
  {
   "cell_type": "markdown",
   "metadata": {},
   "source": [
    "`c)` What is the expected difference in salary between someone with a PhD and an individual with no PhD nor master's degree?  What is the 95% confidence interval of the change?"
   ]
  },
  {
   "cell_type": "markdown",
   "metadata": {
    "collapsed": true,
    "jupyter": {
     "outputs_hidden": true
    }
   },
   "source": [
    "$13,250.00, 95% confidence interval = 0.000"
   ]
  },
  {
   "cell_type": "markdown",
   "metadata": {},
   "source": [
    "`d)` If a male employee has 5 years of experience as a senior engineer with a bachelor's degree, what is the expected salary of the employee?"
   ]
  },
  {
   "cell_type": "markdown",
   "metadata": {
    "collapsed": true,
    "jupyter": {
     "outputs_hidden": true
    }
   },
   "source": [
    "**Your Answer Here**"
   ]
  },
  {
   "cell_type": "markdown",
   "metadata": {},
   "source": [
    "`e)` Imagine that the employee in question `d)` actually has a salary of $110,000, what would the residual be for this employee?"
   ]
  },
  {
   "cell_type": "markdown",
   "metadata": {
    "collapsed": true,
    "jupyter": {
     "outputs_hidden": true
    }
   },
   "source": [
    "**Your Answer Here**"
   ]
  },
  {
   "cell_type": "markdown",
   "metadata": {},
   "source": [
    "`f)` How well do you think your model fits?  What metrics or plots would you consider to understand if this model does a good job of predicting salary?"
   ]
  },
  {
   "cell_type": "code",
   "execution_count": 5,
   "metadata": {
    "collapsed": true,
    "jupyter": {
     "outputs_hidden": true
    }
   },
   "outputs": [],
   "source": [
    "### Your work here"
   ]
  },
  {
   "cell_type": "markdown",
   "metadata": {},
   "source": [
    "**Your Answer Here**"
   ]
  },
  {
   "cell_type": "markdown",
   "metadata": {},
   "source": [
    "<a id='finalcheck'></a>\n",
    "## Final Check!\n",
    "\n",
    "Congratulations!  You have reached the end of the salary prediction project!  You should be very proud of all you have accomplished!\n",
    "\n",
    "> **Tip**: Once you are satisfied with your work here, check over your notebook to make sure that it satisfies all the specifications mentioned in the rubric. You should also probably remove all of the \"Hints\" and \"Tips\" like this one so that the presentation is as polished as possible.\n",
    "\n",
    "\n",
    "<a id='submission'></a>\n",
    "## Submission\n",
    "\n",
    "Please follow the directions in the classroom to submit this notebook, as well as your completed slides."
   ]
  }
 ],
 "metadata": {
  "kernelspec": {
   "display_name": "Python 3 (ipykernel)",
   "language": "python",
   "name": "python3"
  },
  "language_info": {
   "codemirror_mode": {
    "name": "ipython",
    "version": 3
   },
   "file_extension": ".py",
   "mimetype": "text/x-python",
   "name": "python",
   "nbconvert_exporter": "python",
   "pygments_lexer": "ipython3",
   "version": "3.10.13"
  }
 },
 "nbformat": 4,
 "nbformat_minor": 4
}
