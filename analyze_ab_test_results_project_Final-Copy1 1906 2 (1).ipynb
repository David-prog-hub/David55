{
 "cells": [
  {
   "cell_type": "markdown",
   "metadata": {},
   "source": [
    "# Analyze A/B Test Results\n",
    "\n",
    "This project will ensure you have mastered the subjects covered in the Hypothesis Testing lessons.  The hope is to have this project be as comprehensive of these topics as possible.  Good luck!\n",
    "\n",
    "Corresponding with this notebook is a slide deck where you will need to update all the portions in red.  Completing the notebook will provide all the results needed for the slides.  **Correctly completing the slides is a required part of the project.**\n",
    "\n",
    "## Table of Contents\n",
    "- [Introduction](#intro)\n",
    "- [Part I - Descriptive Statistics](#descriptive)\n",
    "- [Part II - Probability](#probability)\n",
    "- [Part III - Experimentation](#experimentation)\n",
    "\n",
    "\n",
    "<a id='intro'></a>\n",
    "### Introduction\n",
    "\n",
    "A/B tests are very commonly performed by data analysts and data scientists.  For this project, you will be working to understand the results of an A/B test run by an e-commerce website.  Your goal is to work through this notebook to help the company understand if they should implement the new page, keep the old page, or perhaps run the experiment longer to make their decision.\n",
    "\n",
    "**As you work through this notebook, follow along in the classroom and answer the corresponding quiz questions associated with each question.** The labels for each classroom concept are provided for each question.  This will assure you are on the right track as you work through the project, and you can feel more confident in your final submission meeting the criteria.  As a final check, assure you meet all the criteria on the rubric.\n",
    "\n",
    "<a id='descriptive'></a>\n",
    "#### Part I - Descriptive Statistics\n",
    "\n",
    "To get started, let's import our libraries."
   ]
  },
  {
   "cell_type": "code",
   "execution_count": 2,
   "metadata": {},
   "outputs": [],
   "source": [
    "import pandas as pd\n",
    "import numpy as np\n",
    "import random\n",
    "import matplotlib.pyplot as plt\n",
    "\n",
    "random.seed(0)"
   ]
  },
  {
   "cell_type": "code",
   "execution_count": 2,
   "metadata": {},
   "outputs": [
    {
     "name": "stdout",
     "output_type": "stream",
     "text": [
      "Requirement already satisfied: openpyxl in c:\\users\\david\\anaconda3\\lib\\site-packages (3.1.5)\n",
      "Requirement already satisfied: et-xmlfile in c:\\users\\david\\anaconda3\\lib\\site-packages (from openpyxl) (1.1.0)\n"
     ]
    }
   ],
   "source": [
    "\n",
    " !pip install openpyxl\n",
    " "
   ]
  },
  {
   "cell_type": "code",
   "execution_count": 3,
   "metadata": {},
   "outputs": [
    {
     "name": "stdout",
     "output_type": "stream",
     "text": [
      "3.1.5\n"
     ]
    }
   ],
   "source": [
    "import openpyxl\n",
    "print(openpyxl.__version__)"
   ]
  },
  {
   "cell_type": "code",
   "execution_count": 4,
   "metadata": {},
   "outputs": [],
   "source": [
    "import pandas as pd\n",
    "\n",
    "# Read the original file (e.g., .xlsx)\n",
    "df = pd.read_excel('ab_data (8).xlsx')\n",
    "#countries = pd.read_excel('C:/Users/David/PyCharmMiscProject/countries.xlsx')\n",
    "\n",
    "# Assuming 'user_id' is the common column to join on\n",
    "#merged_df = pd.merge(df, countries, on='country', how='inner')\n",
    "\n",
    "# Check the merged dataframe shape\n",
    "#df = merged_df\n",
    "\n",
    "# Save it as a CSV file\n",
    "df.to_csv('ab_data (8).csv', index=False)\n",
    "#df.to_csv('C:/Users/David/PyCharmMiscProject/countries.csv', index=False)\n"
   ]
  },
  {
   "cell_type": "markdown",
   "metadata": {},
   "source": [
    "For all questions in `Part I` notice links to [pandas documentation](https://pandas.pydata.org/) are provided to assist with answering the questions.  Though there are other ways you could solve the questions, the documentation is provided to assist you with one fast way to find the answer to each question.\n",
    "\n",
    "\n",
    "`a)` Now, read in the `ab_data.csv` data. Store it in `df`. Read in the dataset and take a look at the top few rows here. **This question is completed for you**."
   ]
  },
  {
   "cell_type": "code",
   "execution_count": 5,
   "metadata": {
    "scrolled": true
   },
   "outputs": [
    {
     "data": {
      "text/html": [
       "<div>\n",
       "<style scoped>\n",
       "    .dataframe tbody tr th:only-of-type {\n",
       "        vertical-align: middle;\n",
       "    }\n",
       "\n",
       "    .dataframe tbody tr th {\n",
       "        vertical-align: top;\n",
       "    }\n",
       "\n",
       "    .dataframe thead th {\n",
       "        text-align: right;\n",
       "    }\n",
       "</style>\n",
       "<table border=\"1\" class=\"dataframe\">\n",
       "  <thead>\n",
       "    <tr style=\"text-align: right;\">\n",
       "      <th></th>\n",
       "      <th>country</th>\n",
       "      <th>group</th>\n",
       "      <th>converted</th>\n",
       "    </tr>\n",
       "  </thead>\n",
       "  <tbody>\n",
       "    <tr>\n",
       "      <th>0</th>\n",
       "      <td>UK</td>\n",
       "      <td>control</td>\n",
       "      <td>0</td>\n",
       "    </tr>\n",
       "    <tr>\n",
       "      <th>1</th>\n",
       "      <td>US</td>\n",
       "      <td>treatment</td>\n",
       "      <td>1</td>\n",
       "    </tr>\n",
       "    <tr>\n",
       "      <th>2</th>\n",
       "      <td>UK</td>\n",
       "      <td>treatment</td>\n",
       "      <td>0</td>\n",
       "    </tr>\n",
       "    <tr>\n",
       "      <th>3</th>\n",
       "      <td>UK</td>\n",
       "      <td>control</td>\n",
       "      <td>0</td>\n",
       "    </tr>\n",
       "    <tr>\n",
       "      <th>4</th>\n",
       "      <td>UK</td>\n",
       "      <td>treatment</td>\n",
       "      <td>0</td>\n",
       "    </tr>\n",
       "  </tbody>\n",
       "</table>\n",
       "</div>"
      ],
      "text/plain": [
       "  country      group  converted\n",
       "0      UK    control          0\n",
       "1      US  treatment          1\n",
       "2      UK  treatment          0\n",
       "3      UK    control          0\n",
       "4      UK  treatment          0"
      ]
     },
     "execution_count": 5,
     "metadata": {},
     "output_type": "execute_result"
    }
   ],
   "source": [
    "df = pd.read_csv('ab_data (8).csv')\n",
    "df.head()\n"
   ]
  },
  {
   "cell_type": "markdown",
   "metadata": {},
   "source": [
    "`b)` Use the below cell to find the number of rows in the dataset. [Helpful pandas link - `Dataframe.shape`](https://pandas.pydata.org/docs/reference/api/pandas.DataFrame.shape.html#pandas.DataFrame.shape)"
   ]
  },
  {
   "cell_type": "code",
   "execution_count": 6,
   "metadata": {},
   "outputs": [
    {
     "data": {
      "text/plain": [
       "(69889, 3)"
      ]
     },
     "execution_count": 6,
     "metadata": {},
     "output_type": "execute_result"
    }
   ],
   "source": [
    "df = pd.read_csv('ab_data (8).csv')\n",
    "df.shape"
   ]
  },
  {
   "cell_type": "code",
   "execution_count": 7,
   "metadata": {
    "jupyter": {
     "outputs_hidden": true
    }
   },
   "outputs": [
    {
     "name": "stdout",
     "output_type": "stream",
     "text": [
      "Number of rows: (69889, 3)\n"
     ]
    }
   ],
   "source": [
    "num_rows =df.shape\n",
    "print(\"Number of rows:\", num_rows)"
   ]
  },
  {
   "cell_type": "markdown",
   "metadata": {
    "collapsed": true,
    "jupyter": {
     "outputs_hidden": true
    }
   },
   "source": [
    "`c)` The proportion of users converted.  [Helpful  Pandas Link - `Dataframe.mean`](https://pandas.pydata.org/docs/reference/api/pandas.DataFrame.mean.html)"
   ]
  },
  {
   "cell_type": "code",
   "execution_count": 8,
   "metadata": {
    "jupyter": {
     "outputs_hidden": true
    }
   },
   "outputs": [
    {
     "name": "stdout",
     "output_type": "stream",
     "text": [
      "Proportion of users converted: 0.13047832992316388\n"
     ]
    }
   ],
   "source": [
    "conversion_rate =df['converted'].mean()\n",
    "print(\"Proportion of users converted:\", conversion_rate)"
   ]
  },
  {
   "cell_type": "markdown",
   "metadata": {},
   "source": [
    "`d)` Do any of the rows have missing values? [Helpful Pandas Link - `Dataframe.isnull`](https://pandas.pydata.org/docs/reference/api/pandas.DataFrame.isnull.html) and [Helpful Pandas Link- `Dataframe.sum`](https://pandas.pydata.org/docs/reference/api/pandas.DataFrame.sum.html)"
   ]
  },
  {
   "cell_type": "code",
   "execution_count": 9,
   "metadata": {
    "jupyter": {
     "outputs_hidden": true
    },
    "scrolled": true
   },
   "outputs": [
    {
     "name": "stdout",
     "output_type": "stream",
     "text": [
      "False\n"
     ]
    }
   ],
   "source": [
    "has_missing =df.isnull().values.any()\n",
    "print(has_missing)\n"
   ]
  },
  {
   "cell_type": "markdown",
   "metadata": {},
   "source": [
    "`e)` How many customers are from each country? Build a bar chart to show the count of visits from each country."
   ]
  },
  {
   "cell_type": "code",
   "execution_count": 10,
   "metadata": {},
   "outputs": [
    {
     "name": "stdout",
     "output_type": "stream",
     "text": [
      "Number of customers from each country:\n",
      " country\n",
      "US    48850\n",
      "UK    17551\n",
      "CA     3488\n",
      "Name: count, dtype: int64\n"
     ]
    }
   ],
   "source": [
    "# Cancel; number of visitors from each country - pull the necessary code from the next cell to provide just the counts\n",
    "country_counts =df['country'].value_counts()\n",
    "print(\"Number of customers from each country:\\n\", country_counts)"
   ]
  },
  {
   "cell_type": "code",
   "execution_count": 11,
   "metadata": {},
   "outputs": [
    {
     "data": {
      "image/png": "[encoded data removed]",
      "text/plain": [
       "<Figure size 640x480 with 1 Axes>"
      ]
     },
     "metadata": {},
     "output_type": "display_data"
    }
   ],
   "source": [
    "df['country'].value_counts().plot(kind='bar');\n",
    "plt.title('Number of Visits From Each Country');\n",
    "plt.ylabel('Count of Visits');\n",
    "plt.show();"
   ]
  },
  {
   "cell_type": "markdown",
   "metadata": {},
   "source": [
    "`f)` Recognize that all of your columns are of a **categorical data type** with the exception of one.  Which column is not **categorical**? [Helpful Pandas Link](https://pandas.pydata.org/docs/reference/api/pandas.DataFrame.info.html)"
   ]
  },
  {
   "cell_type": "code",
   "execution_count": 12,
   "metadata": {},
   "outputs": [
    {
     "name": "stdout",
     "output_type": "stream",
     "text": [
      "country      object\n",
      "group        object\n",
      "converted     int64\n",
      "dtype: object\n"
     ]
    }
   ],
   "source": [
    "print(df.dtypes)"
   ]
  },
  {
   "cell_type": "markdown",
   "metadata": {},
   "source": [
    "`g)` What are the possible values of the `converted` column?  Does it make sense that these values are the only possible values? Why or why not? \n",
    "\n",
    "**Here you can use one of the functions you used in an earlier question**."
   ]
  },
  {
   "cell_type": "code",
   "execution_count": 13,
   "metadata": {},
   "outputs": [
    {
     "name": "stdout",
     "output_type": "stream",
     "text": [
      "Possible values in the 'converted' column: [0 1]\n"
     ]
    }
   ],
   "source": [
    "unique_converted_values = df['converted'].unique()\n",
    "\n",
    "# Print the unique values\n",
    "print(\"Possible values in the 'converted' column:\", unique_converted_values)\n",
    "# 0 and 1 are the only possible values becuase there  are  only two conditions, converted or not."
   ]
  },
  {
   "cell_type": "markdown",
   "metadata": {},
   "source": [
    "<a id='probability'></a>\n",
    "#### Part II - Probability\n",
    "\n",
    "Now that you have had a chance to learn more about the dataset, let's look more at how different factors are related to `converting`.\n",
    "\n",
    "`a)` What is the probability of an individual converting regardless of the page they receive or the country they are from? Simply, what is the chance of conversion in the dataset?"
   ]
  },
  {
   "cell_type": "code",
   "execution_count": 14,
   "metadata": {
    "jupyter": {
     "outputs_hidden": true
    }
   },
   "outputs": [
    {
     "name": "stdout",
     "output_type": "stream",
     "text": [
      "0.13047832992316388\n"
     ]
    }
   ],
   "source": [
    "\n",
    "num_converted = df['converted'].value_counts()[1]\n",
    "num_rows = df.shape[0]\n",
    "prob = num_converted/num_rows\n",
    "print(prob)"
   ]
  },
  {
   "cell_type": "markdown",
   "metadata": {},
   "source": [
    "`b)` Given that an individual was in the `control` group, what is the probability they converted? **This question is completed for you**"
   ]
  },
  {
   "cell_type": "code",
   "execution_count": 16,
   "metadata": {},
   "outputs": [
    {
     "data": {
      "text/plain": [
       "0.1052540515600669"
      ]
     },
     "execution_count": 16,
     "metadata": {},
     "output_type": "execute_result"
    }
   ],
   "source": [
    "df.query('group == \"control\"')['converted'].mean()"
   ]
  },
  {
   "cell_type": "markdown",
   "metadata": {},
   "source": [
    "`c)` Given that an individual was in the `treatment` group, what is the probability they converted?"
   ]
  },
  {
   "cell_type": "code",
   "execution_count": 17,
   "metadata": {},
   "outputs": [
    {
     "data": {
      "text/plain": [
       "0.15532078043793132"
      ]
     },
     "execution_count": 17,
     "metadata": {},
     "output_type": "execute_result"
    }
   ],
   "source": [
    "df.query('group == \"treatment\"')['converted'].mean()"
   ]
  },
  {
   "cell_type": "markdown",
   "metadata": {},
   "source": [
    "`d)` Do you see evidence that the treatment is related to higher `converted` rates?"
   ]
  },
  {
   "cell_type": "code",
   "execution_count": 19,
   "metadata": {},
   "outputs": [
    {
     "name": "stdout",
     "output_type": "stream",
     "text": [
      "The rate of treatment converted is 0.15532078043793132 . The rate of control converted is 0.1052540515600669 .\n",
      "Therefore the treatment rate is higher than the converted rate\n"
     ]
    }
   ],
   "source": [
    " \n",
    "treatment_r = df.query('group == \"treatment\"')['converted'].mean() \n",
    "control_r = df.query('group == \"control\"')['converted'].mean()\n",
    "print('The rate of treatment converted is', treatment_r,'.'' The rate of control converted is', control_r,'.')\n",
    "print('Therefore the treatment rate is higher than the converted rate')"
   ]
  },
  {
   "cell_type": "markdown",
   "metadata": {},
   "source": [
    "`e)` What is the probability that an individual was in the `treatment`?"
   ]
  },
  {
   "cell_type": "code",
   "execution_count": 20,
   "metadata": {
    "jupyter": {
     "outputs_hidden": true
    }
   },
   "outputs": [
    {
     "name": "stdout",
     "output_type": "stream",
     "text": [
      "0.07825265778591767\n"
     ]
    }
   ],
   "source": [
    "treatment_prob = df[(df['group'] == 'treatment') & (df['converted'] == 1)].shape[0]/df.shape[0]\n",
    "print(treatment_prob)\n",
    " "
   ]
  },
  {
   "cell_type": "markdown",
   "metadata": {},
   "source": [
    "`f)` What is the probability that an individual was from Canada `CA`?"
   ]
  },
  {
   "cell_type": "code",
   "execution_count": 21,
   "metadata": {},
   "outputs": [
    {
     "name": "stdout",
     "output_type": "stream",
     "text": [
      "0.04990771079855199\n"
     ]
    }
   ],
   "source": [
    "CA_prob = df['country'].value_counts()['CA']/df.shape[0]\n",
    "print(CA_prob)"
   ]
  },
  {
   "cell_type": "markdown",
   "metadata": {},
   "source": [
    "`g)` Given that an individual was in the `US`, what was the probability that they `converted`? **This question is completed for you**\n",
    "\n",
    "$P(\\text{converted} == 1|\\text{country} ==\\text{\"US\"})$\n",
    "\n"
   ]
  },
  {
   "cell_type": "code",
   "execution_count": 22,
   "metadata": {},
   "outputs": [
    {
     "data": {
      "text/plain": [
       "0.13277379733879222"
      ]
     },
     "execution_count": 22,
     "metadata": {},
     "output_type": "execute_result"
    }
   ],
   "source": [
    "df.query('country == \"US\"')['converted'].mean()\n",
    "#print(US)"
   ]
  },
  {
   "cell_type": "markdown",
   "metadata": {},
   "source": [
    "`h)` Given that an individual was in the `UK`, what was the probability that they `converted`? \n",
    "\n",
    "$P(\\text{converted} == 1|\\text{country} ==\\text{\"UK\"})$"
   ]
  },
  {
   "cell_type": "code",
   "execution_count": 23,
   "metadata": {},
   "outputs": [
    {
     "data": {
      "text/plain": [
       "0.12512107572218106"
      ]
     },
     "execution_count": 23,
     "metadata": {},
     "output_type": "execute_result"
    }
   ],
   "source": [
    "df.query('country == \"UK\"')['converted'].mean()\n"
   ]
  },
  {
   "cell_type": "markdown",
   "metadata": {},
   "source": [
    "`i)` Do you see evidence that the `converted` rate might differ from one country to the next?"
   ]
  },
  {
   "cell_type": "code",
   "execution_count": 24,
   "metadata": {},
   "outputs": [
    {
     "name": "stdout",
     "output_type": "stream",
     "text": [
      "country\n",
      "CA    0.125287\n",
      "UK    0.125121\n",
      "US    0.132774\n",
      "Name: converted, dtype: float64\n"
     ]
    }
   ],
   "source": [
    "converted =  df.groupby('country')['converted'].mean()\n",
    "print(converted)"
   ]
  },
  {
   "cell_type": "markdown",
   "metadata": {},
   "source": [
    "`j)` Consider the table below, fill in the conversion rates below to look at how conversion by country and treatment group vary.  The `US` column is done for you, and two methods for calculating the probabilities are shown - **COMPLETE THE REST OF THE TABLE**.  Does it appear that there could be an interaction between how country and treatment impact conversion?\n",
    "\n",
    "These two values that are filled in can be written as:\n",
    "\n",
    "$P(\\text{converted} == 1|(\\text{country} ==\\text{\"US\" AND }\\text{group} ==\\text{\"control\"})) = 10.7\\%$\n",
    "\n",
    "$P(\\text{converted} == 1|(\\text{country} ==\\text{\"US\" AND }\\text{group} ==\\text{\"treatment\"})) = 15.8\\%$\n",
    "\n",
    "|             | US          | UK          | CA          |\n",
    "| ----------- | ----------- | ----------- | ----------- |\n",
    "| Control     | 10.7%       |  %          |  %          |\n",
    "| Treatment   | 15.8%       |  %          |  %          |"
   ]
  },
  {
   "cell_type": "code",
   "execution_count": 25,
   "metadata": {},
   "outputs": [
    {
     "name": "stdout",
     "output_type": "stream",
     "text": [
      "US control 0.10731404958677686\n",
      "US treatment 0.1577687626774848\n",
      "UK control 0.10164866401364411\n",
      "UK treatment 0.148698035632709\n",
      "CA control 0.0944741532976827\n",
      "CA treatment 0.15401662049861495\n"
     ]
    }
   ],
   "source": [
    "# Method 1  - explicitly calculate each probability\n",
    "print('US control',df.query('country == \"US\" and group == \"control\" and converted == 1').shape[0]/df.query('country == \"US\" and group == \"control\"').shape[0]) \n",
    "print('US treatment',df.query('country == \"US\" and group == \"treatment\" and converted == 1').shape[0]/df.query('country == \"US\" and group == \"treatment\"').shape[0])\n",
    "print('UK control',df.query('country == \"UK\" and group == \"control\" and converted == 1').shape[0]/df.query('country == \"UK\" and group == \"control\"').shape[0]) \n",
    "print('UK treatment',df.query('country == \"UK\" and group == \"treatment\" and converted == 1').shape[0]/df.query('country == \"UK\" and group == \"treatment\"').shape[0])\n",
    "print('CA control',df.query('country == \"CA\" and group == \"control\" and converted == 1').shape[0]/df.query('country == \"CA\" and group == \"control\"').shape[0]) \n",
    "print('CA treatment',df.query('country == \"CA\" and group == \"treatment\" and converted == 1').shape[0]/df.query('country == \"CA\" and group == \"treatment\"').shape[0])"
   ]
  },
  {
   "cell_type": "markdown",
   "metadata": {},
   "source": [
    "##### Solution -- Complete the Table Here\n",
    "\n",
    "|             | US          | UK          | CA          |\n",
    "| ----------- | ----------- | ----------- | ----------- |\n",
    "| Control     | 10.7%       |  %          |  %          |\n",
    "| Treatment   | 15.8%       |  %          |  %          |"
   ]
  },
  {
   "cell_type": "code",
   "execution_count": 26,
   "metadata": {},
   "outputs": [
    {
     "name": "stdout",
     "output_type": "stream",
     "text": [
      "US group\n",
      "control      0.107314\n",
      "treatment    0.157769\n",
      "Name: converted, dtype: float64\n",
      "UK group\n",
      "control      0.101649\n",
      "treatment    0.148698\n",
      "Name: converted, dtype: float64\n",
      "CA group\n",
      "control      0.094474\n",
      "treatment    0.154017\n",
      "Name: converted, dtype: float64\n"
     ]
    }
   ],
   "source": [
    "# Method 2 - quickly calculate using `groupby`\n",
    "US=df.query('country == \"US\"').groupby('group')['converted'].mean()\n",
    "UK=df.query('country == \"UK\"').groupby('group')['converted'].mean()\n",
    "CA=df.query('country == \"CA\"').groupby('group')['converted'].mean()\n",
    "print(\"US\", US)\n",
    "print( \"UK\", UK)\n",
    "print( \"CA\", CA)"
   ]
  },
  {
   "cell_type": "markdown",
   "metadata": {},
   "source": [
    "<a id='experimentation'></a>\n",
    "### Part III - Experimentation\n",
    "\n",
    "Consider you need to make the decision just based on all the data provided.  If you want to assume that the control page is better unless the treatment page proves to be definitely better at a Type I error rate of 5%, you state your null and alternative hypotheses in terms of **$p_{control}$** and **$p_{treatment}$** as:  \n",
    "\n",
    "$H_{0}: p_{control} >= p_{treatment}$\n",
    "\n",
    "$H_{1}: p_{control} < p_{treatment}$\n",
    "\n",
    "Which is equivalent to:\n",
    "\n",
    "$H_{0}: p_{treatment} - p_{control} <= 0$\n",
    "\n",
    "$H_{1}: p_{treatment} - p_{control} > 0$\n",
    "\n",
    "\n",
    "Where  \n",
    "* **$p_{control}$** is the `converted` rate for the control page\n",
    "* **$p_{treatment}$** `converted` rate for the treatment page\n",
    "\n",
    "**Note for this experiment we are not looking at differences associated with country.**"
   ]
  },
  {
   "cell_type": "markdown",
   "metadata": {},
   "source": [
    "Assume under the null hypothesis, $p_{treatment}$ and $p_{control}$ both have \"true\" success rates equal to the **converted** success rate regardless of page - that is $p_{treatment}$ and $p_{control}$ are equal. Furthermore, assume they are equal to the **converted** rate in `df` regardless of the page. **These are set in the first cell below.**<br><br>\n",
    "\n",
    "* Use a sample size for each page equal to the ones in `df`. **These are also set below.**  <br><br>\n",
    "\n",
    "* Perform the sampling distribution for the difference in `converted` between the two pages over 500 iterations of calculating an estimate from the null.  <br><br>\n",
    "\n",
    "* Use the cells below to provide the necessary parts of this simulation.  \n",
    "\n",
    "If this doesn't make complete sense right now, don't worry - you are going to work through the problems below to complete this problem.  You can use **Quiz 4** in the classroom to make sure you are on the right track.<br><br>"
   ]
  },
  {
   "cell_type": "markdown",
   "metadata": {},
   "source": [
    "`a)` The **convert rate** for $p_{treatment}$ under the null.  The **convert rate** for $p_{control}$ under the null. The sample size for the `control` and the sample size for the `treatment` are from the original dataset. **All of these values are set below, and set the stage for the simulations you will run for the rest of this section.**"
   ]
  },
  {
   "cell_type": "code",
   "execution_count": 27,
   "metadata": {
    "jupyter": {
     "outputs_hidden": true
    }
   },
   "outputs": [
    {
     "name": "stdout",
     "output_type": "stream",
     "text": [
      "0.13047832992316388 35211 34678\n"
     ]
    }
   ],
   "source": [
    "p_control_treatment_null  = df['converted'].mean()\n",
    "n_treatment = df.query('group == \"treatment\"').shape[0]\n",
    "n_control = df.query('group == \"control\"').shape[0]\n",
    "print(p_control_treatment_null,n_treatment, n_control)"
   ]
  },
  {
   "cell_type": "markdown",
   "metadata": {},
   "source": [
    "`b)` Use the results from part `a)` to simulate `n_treatment` transactions with a convert rate of `p_treatment_null`.  Store these $n_{treatment}$ 1's and 0's in a `list` of **treatment_converted**.  It should look something like the following (the 0's and and 1's **don't** need to be the same): \n",
    "\n",
    "`[0, 0, 1, 1, 0, ....]` "
   ]
  },
  {
   "cell_type": "code",
   "execution_count": 28,
   "metadata": {
    "jupyter": {
     "outputs_hidden": true
    }
   },
   "outputs": [
    {
     "name": "stdout",
     "output_type": "stream",
     "text": [
      "[0 0 0 ... 1 0 0]\n"
     ]
    }
   ],
   "source": [
    "# Simulate n_treatment transactions with a conversion rate of p_control_treatment_null\n",
    "treatment_converted = np.random.choice([0, 1], size=n_treatment, p=[1 - p_control_treatment_null, p_control_treatment_null])\n",
    "\n",
    "# Display the simulated treatment conversions\n",
    "print(treatment_converted)"
   ]
  },
  {
   "cell_type": "markdown",
   "metadata": {},
   "source": [
    "`c)` Use the results from part `a)` to simulate `n_control` transactions with a convert rate of `p_control_null`.  Store these $n_{treatment}$ 1's and 0's in a `list` of **control_converted**.  It should look something like the following (the 0's and and 1's **don't** need to be exactly the same): \n",
    "\n",
    "`[0, 0, 1, 1, 0, ....]` "
   ]
  },
  {
   "cell_type": "code",
   "execution_count": 24,
   "metadata": {
    "jupyter": {
     "outputs_hidden": true
    }
   },
   "outputs": [
    {
     "name": "stdout",
     "output_type": "stream",
     "text": [
      "[0 0 0 ... 0 0 0]\n"
     ]
    }
   ],
   "source": [
    "p_control_null = df.query('group == \"control\"')['converted'].mean()  # Conversion rate under the null hypothesis\n",
    "n_control = df.query('group == \"control\"').shape[0]  # Sample size for control\n",
    "\n",
    "# Simulate n_control transactions with a conversion rate of p_control_null\n",
    "control_converted = np.random.choice([0, 1], size=n_control, p=[1 - p_control_null, p_control_null])\n",
    "\n",
    "# Display the simulated control conversions\n",
    "print(control_converted)"
   ]
  },
  {
   "cell_type": "markdown",
   "metadata": {},
   "source": [
    "`d)` Find the estimate for $p_{treatment}$ - $p_{control}$ under the null using the simulated values from part `(b)` and `(c)`."
   ]
  },
  {
   "cell_type": "code",
   "execution_count": 29,
   "metadata": {
    "scrolled": true
   },
   "outputs": [
    {
     "data": {
      "text/plain": [
       "0.050066728877864425"
      ]
     },
     "execution_count": 29,
     "metadata": {},
     "output_type": "execute_result"
    }
   ],
   "source": [
    "control_converted = df.query('group == \"control\"')['converted'].mean()\n",
    "treatment_converted = df.query('group == \"treatment\"')['converted'].mean()\n",
    "treatment_converted - control_converted"
   ]
  },
  {
   "cell_type": "markdown",
   "metadata": {},
   "source": [
    "`e)` Simulate 500 $p_{treatment}$ - $p_{control}$ values using this same process as `b)`- `d)` similarly to the one you calculated in parts **a. through g.** above.  Store all 500 values in an numpy array called **p_diffs**.  This array should look similar to the below **(the values will not match AND this will likely take a bit of time to run)**:\n",
    "\n",
    "`[0.001, -0.003, 0.002, ...]`"
   ]
  },
  {
   "cell_type": "code",
   "execution_count": 30,
   "metadata": {},
   "outputs": [],
   "source": [
    "p_diffs = []\n",
    "\n",
    "# Simulate 500 times\n",
    "for _ in range(500):\n",
    "    # Sample sizes\n",
    "    treatment_sample = df[df['group'] == 'treatment'].sample(n=len(df[df['group'] == 'treatment']), replace=True)\n",
    "    control_sample = df[df['group'] == 'control'].sample(n=len(df[df['group'] == 'control']), replace=True)\n",
    "\n",
    "    # Calculate the conversion rates (means)\n",
    "    p_treatment = treatment_sample['converted'].mean()\n",
    "    p_control = control_sample['converted'].mean()\n",
    "\n",
    "    # Calculate the difference between treatment and control\n",
    "    p_diff = p_treatment - p_control\n",
    "\n",
    "    # Add the difference to the p_diffs array\n",
    "    p_diffs.append(p_diff)\n",
    "\n",
    "\n",
    "    "
   ]
  },
  {
   "cell_type": "code",
   "execution_count": 31,
   "metadata": {},
   "outputs": [
    {
     "name": "stdout",
     "output_type": "stream",
     "text": [
      "[0.04735124794838169, 0.050404039383058735, 0.04524878598085938, 0.04522123176025866, 0.04955421546087539, 0.05084010939077174, 0.05058709948589059, 0.052275371028329354, 0.05297926527578595, 0.050681903366905284, 0.05019342505962615, 0.049625447768778794, 0.05213991760831875, 0.050457347729836635, 0.0473062603292395, 0.048389806611368144, 0.04757752260191761, 0.04981069042467648, 0.05054383088321564, 0.04844046886848155, 0.05021615063749657, 0.04690516522255116, 0.04733026841296399, 0.04599109316227515, 0.05093706879886689, 0.05217969412608829, 0.04901766693417642, 0.04763440411155717, 0.050279498728377434, 0.04960010312722936, 0.047314990541502955, 0.05244792785045964, 0.053707167606967046, 0.04868169298680708, 0.04982509527491118, 0.0513228860340942, 0.05243267700498404, 0.048148200034400304, 0.04827230417846845, 0.051573222823325465, 0.054075960928280625, 0.04530163079103869, 0.057257194587172086, 0.04981333651434096, 0.048215503746785154, 0.052596530640836275, 0.04588054787320081, 0.04914220758885772, 0.050551715100238176, 0.05113851639942284, 0.047404992805772775, 0.04777375910110092, 0.04818224786222777, 0.047809116460767895, 0.05279443210451598, 0.05515074997216038, 0.04664694421629735, 0.04975124390332873, 0.050029571423773914, 0.050487903472758694, 0.05024588741116315, 0.04493722960184224, 0.048157366757276915, 0.04725644406736697, 0.04952974384055231, 0.05076582150857614, 0.04891195028783239, 0.048488566113886813, 0.04884729266511202, 0.04613178470964384, 0.05354724256663333, 0.05549550818376403, 0.049791020421098314, 0.048393789258857525, 0.04803241661796788, 0.04759113550888225, 0.05211200795506113, 0.04648131751200697, 0.04573857381997805, 0.04538508539611093, 0.045936911794270896, 0.05325846581745747, 0.051169535678943515, 0.055008775918937616, 0.051685104670224746, 0.05426862426460227, 0.04721011989039983, 0.045933473761336385, 0.053749972673043364, 0.05187951404899907, 0.05008549883423083, 0.05249165998973318, 0.047657512148069875, 0.04713059388084617, 0.05037171057169855, 0.05170826675870832, 0.050207856935846285, 0.046743494139764766, 0.046244539577769486, 0.04783577063415684, 0.050299605242568796, 0.04832122039312918, 0.0483290775841663, 0.05240032116763839, 0.051579360997895285, 0.05267862166209815, 0.05281541163993368, 0.05548590495027424, 0.04917232682116661, 0.048262673918993235, 0.05800258436886549, 0.05063735225837626, 0.043134047664197386, 0.04905569740949328, 0.05258992892966784, 0.04794634294921661, 0.050523751395009725, 0.04697331493017691, 0.05060679651545419, 0.049202963642045, 0.04699642296668961, 0.05476365023107897, 0.051283573052923234, 0.05421185085890441, 0.04846016589804518, 0.05344152592028931, 0.052239550132063786, 0.05220850382655767, 0.05014363582373907, 0.04936676322592637, 0.04906227209467631, 0.04914610915839085, 0.0507915756347533, 0.049316537479426104, 0.048665051531535636, 0.048436540272963, 0.0528123560656415, 0.05059277412386183, 0.05116208797253413, 0.050990813656257974, 0.049984993289259455, 0.04987753060046275, 0.04689553496307593, 0.052353587506043534, 0.05481256644573973, 0.05214122714015826, 0.04895740144357319, 0.05121275022964758, 0.051902239626869476, 0.05394749167808077, 0.04731147143061212, 0.05082611402516478, 0.05155573537281313, 0.0466298932763982, 0.05227711707078203, 0.0533121836488631, 0.05016895343930307, 0.049354077392158954, 0.04806430891871491, 0.05319424470535024, 0.047094336473967394, 0.05401517784910792, 0.04855540628967306, 0.05044116981116381, 0.05246235972667976, 0.05184759472226663, 0.05100349949002539, 0.049324367644477785, 0.04744081370203833, 0.048637987873518945, 0.05211195390309027, 0.05009251003002704, 0.04884639261790023, 0.04662814723394551, 0.04545937327830653, 0.04715329243273113, 0.04883504334195775, 0.04795330009304197, 0.05185026783791652, 0.05166628066188747, 0.047858523238012665, 0.0471847752488504, 0.050459093772289326, 0.04979453953198912, 0.04852307747831287, 0.05091128764670427, 0.054549107312127865, 0.05184980430131793, 0.05020223634984591, 0.04998283776217903, 0.051466196645141904, 0.04920861125403081, 0.05040886802578905, 0.04754306528946242, 0.049932148479080146, 0.048586425569193736, 0.045999386863925434, 0.05194378921307716, 0.053884607123798486, 0.0502266268922127, 0.05094097036840002, 0.05063426965809863, 0.05412051203680965, 0.05146968873004727, 0.050556053180384475, 0.052502545729077046, 0.04588709553239838, 0.04791445064846961, 0.05031272758694939, 0.05090389399226579, 0.052457994620548024, 0.05160121355453935, 0.04891672487859185, 0.055799153319773184, 0.05244926440828458, 0.04921431291798749, 0.04997012490242618, 0.05213424297034751, 0.053515786776499485, 0.050494478157941725, 0.0507129496724114, 0.05188824426126254, 0.05416290761825822, 0.04983644455085366, 0.0476562296422158, 0.0504499270494127, 0.05171437790729273, 0.05255806365490624, 0.049576040991533996, 0.04882238453417577, 0.046683174597190666, 0.04944806230391818, 0.05134604812257777, 0.04529682917429377, 0.05341181617260814, 0.050758837338765364, 0.05086409044851077, 0.056314722311054444, 0.050622920382156156, 0.048919370968256326, 0.047932784094222844, 0.04679156435918459, 0.05049799726883254, 0.0503896075068386, 0.050537256198032635, 0.0500977481573851, 0.05177292438142872, 0.04768591236391154, 0.05018775042165491, 0.04989196247668286, 0.04801495619344101, 0.047800849785103044, 0.05056437390802017, 0.049786218804353397, 0.04587094463971102, 0.054892965476519756, 0.046459464955362934, 0.051374884849032576, 0.05573976085039631, 0.04826133736116826, 0.050567429482312395, 0.055423839365247474, 0.045223414313324536, 0.048558461863965285, 0.05002086823749588, 0.05093360373994693, 0.05236627333981095, 0.050971170678665204, 0.05472128167561581, 0.04828318991781233, 0.0557515736629374, 0.05334977761356678, 0.053159760366909614, 0.04968181168984888, 0.050017349126605076, 0.04793935877940586, 0.04987622106862322, 0.04727434100250705, 0.04701742952809275, 0.04985439553796461, 0.04494904241438334, 0.05183624544632416, 0.04736524331398863, 0.05170562066904387, 0.050592801149847266, 0.053482638995883805, 0.054258584520499295, 0.046955363943065986, 0.055489397035179605, 0.05096459599348217, 0.055184824825973255, 0.05141684391986799, 0.04692262564707805, 0.05027295106917984, 0.049435376470150755, 0.05178383714675802, 0.052436142063903984, 0.05250431879751516, 0.05126693159765183, 0.04909940252278139, 0.04843307521404307, 0.04934403764805598, 0.054820014152149085, 0.05365432279678774, 0.05181174680001564, 0.049208174743417626, 0.0513709292275286, 0.04956556473681786, 0.04952799779809959, 0.05048007330770703, 0.05136260849989288, 0.0503865519325464, 0.05206085513536367, 0.05345508477528309, 0.05154092103795069, 0.0519503098462893, 0.055387991442996456, 0.045605275927047856, 0.048044202404523534, 0.05555760079477624, 0.047991740052986565, 0.05300460991733538, 0.047879966310028985, 0.04512599136863077, 0.05079026610291379, 0.04905395136704059, 0.05475538355541412, 0.05270707592991064, 0.051355651356067566, 0.05145004575245454, 0.052242605706355985, 0.049150501290508006, 0.047131520954043354, 0.05321301466171667, 0.04961188891378501, 0.05090866858302523, 0.050400493246182496, 0.05095283723291194, 0.05164139955693664, 0.046257634896164676, 0.04852572356797735, 0.05201761355867415, 0.044825865343512405, 0.05497426455451153, 0.05245627560408077, 0.05569867480078726, 0.0507317196287778, 0.04822772604395399, 0.05170739373748198, 0.04726910287514896, 0.04983690808745228, 0.05158241657218751, 0.04803285312858105, 0.04984692080556982, 0.0502318920455562, 0.04628731761786038, 0.04980196021241304, 0.04836664452288457, 0.049081015025057295, 0.04752167626941696, 0.05214390025580817, 0.05158241657218751, 0.048436540272963, 0.050575723183962654, 0.053351960166632656, 0.044589496893902666, 0.05083397121620188, 0.05251828713713669, 0.04995662009940326, 0.046229234680323014, 0.055827553535614846, 0.050986912086724845, 0.052242605706355985, 0.05045164606587996, 0.04857240317760138, 0.05009515611969148, 0.04816525097429945, 0.05476978840564882, 0.050101267268275906, 0.05364605612112289, 0.04566079385287704, 0.05067579221832086, 0.04783713421796722, 0.046391751758350336, 0.05023887621536696, 0.04493722960184224, 0.05053204509665998, 0.05119488032049292, 0.04787164558239326, 0.04991643409700594, 0.051198345379412896, 0.05082521397795302, 0.05026550336277048, 0.0469973230139014, 0.0490967294071315, 0.04783841672382129, 0.047018302549319116, 0.049023368598133096, 0.05312039333376782, 0.05394618214624124, 0.04921824151350604, 0.053155777719420205, 0.048832887814877324, 0.04541040301167491, 0.04832122039312918, 0.05013269603242433, 0.0457695930994987, 0.050471316069458164, 0.04832645852048724, 0.054872476503686055, 0.04960403172274791, 0.0446060572712178, 0.045517073757201584, 0.045721522880078885, 0.04527674968608786, 0.04467289744700405, 0.05135436885021345, 0.047916169664936864, 0.049441924129348336, 0.0486506737072864, 0.04412412662313625, 0.05235492406386848, 0.05657646242819907, 0.05066837153789694, 0.056422212025836596, 0.04971719607550129, 0.05039530917079528, 0.0479415143064863, 0.04993127545785382, 0.05279094001961061, 0.050035246061745156, 0.049742950201678474, 0.046440258488383346, 0.04962893985368416, 0.051083898520805415, 0.044797411075699914, 0.054099095990778764, 0.04805773423353188, 0.05033588967543297, 0.04653113377387949, 0.05040182980400744, 0.052336973076757526, 0.047521649243431524, 0.050122219777708185, 0.04945242741004992, 0.0520892553512053, 0.04947337991948218, 0.05500179174912684, 0.0498233492324585, 0.046565645138305536, 0.05065833179379396, 0.04783276911183548, 0.050861934921430374, 0.05048004628172159, 0.048738056907877164, 0.05219453548693616, 0.049572602958599485, 0.052105433269878126, 0.05203158189829568, 0.04577177565256456, 0.050574467704094, 0.04888090398232629, 0.048041146830231335, 0.0514596219599589, 0.0500234602751895, 0.0541676822090177, 0.04471875808737258, 0.04852962513751047, 0.055239060245948365, 0.05194463520831806, 0.04914829171145671, 0.05039574568140845, 0.04870570107053154, 0.054765423299517085, 0.05102707106313671, 0.051110962178822106, 0.04891675190457728, 0.04884860219695153, 0.04625760787017924, 0.044017946440193634, 0.051571940317471365, 0.05005799866560098, 0.05431538495218256, 0.050469106490406854, 0.05213424297034751, 0.05159638491180904, 0.052758174697637245, 0.05204947883343576, 0.0493208755595724, 0.05290454088297718, 0.04946729579688321, 0.04945635600556847, 0.051296668371318396, 0.05018734093702716, 0.05046474138427513, 0.054751427933910135, 0.051367464168608656, 0.050130103994730724, 0.05040142031937969, 0.05045382861894583]\n"
     ]
    }
   ],
   "source": [
    "print(p_diffs)"
   ]
  },
  {
   "cell_type": "markdown",
   "metadata": {},
   "source": [
    "`f)` Plot a histogram of the **p_diffs**.  Does this plot look like what you expected?  Use the matching problem in the classroom to assure you fully understand what was computed here."
   ]
  },
  {
   "cell_type": "code",
   "execution_count": 33,
   "metadata": {},
   "outputs": [],
   "source": [
    "null_vals=np.random.normal(0,np.std(p_diffs), 10000)\n"
   ]
  },
  {
   "cell_type": "code",
   "execution_count": 34,
   "metadata": {
    "scrolled": true
   },
   "outputs": [
    {
     "data": {
      "image/png": "[encoded data removed]",
      "text/plain": [
       "<Figure size 640x480 with 1 Axes>"
      ]
     },
     "metadata": {},
     "output_type": "display_data"
    }
   ],
   "source": [
    "plt.hist(null_vals, alpha = 0.5, label = \"null_true\");\n",
    "plt.hist(p_diffs, alpha=0.5, label = 'P_diffs');\n",
    "plt.legend();"
   ]
  },
  {
   "cell_type": "code",
   "execution_count": 35,
   "metadata": {
    "jupyter": {
     "outputs_hidden": true
    }
   },
   "outputs": [
    {
     "data": {
      "text/plain": [
       "(array([  5.,  31.,  49.,  83., 126.,  94.,  61.,  32.,  16.,   3.]),\n",
       " array([0.04313405, 0.0446209 , 0.04610776, 0.04759461, 0.04908146,\n",
       "        0.05056832, 0.05205517, 0.05354202, 0.05502888, 0.05651573,\n",
       "        0.05800258]),\n",
       " <BarContainer object of 10 artists>)"
      ]
     },
     "execution_count": 35,
     "metadata": {},
     "output_type": "execute_result"
    },
    {
     "data": {
      "image/png": "[encoded data removed]",
      "text/plain": [
       "<Figure size 640x480 with 1 Axes>"
      ]
     },
     "metadata": {},
     "output_type": "display_data"
    }
   ],
   "source": [
    "p_diffs = pd.Series(p_diffs)\n",
    "plt.hist(p_diffs)\n"
   ]
  },
  {
   "cell_type": "markdown",
   "metadata": {},
   "source": [
    "`g)` What proportion of the **p_diffs** are greater than the difference observed between `treatment` and `control` in `df`?"
   ]
  },
  {
   "cell_type": "code",
   "execution_count": 36,
   "metadata": {},
   "outputs": [
    {
     "data": {
      "text/plain": [
       "1.0"
      ]
     },
     "execution_count": 36,
     "metadata": {},
     "output_type": "execute_result"
    }
   ],
   "source": [
    "p_diffs=np.array(p_diffs)\n",
    "len(p_diffs[p_diffs>0])/len(p_diffs)"
   ]
  },
  {
   "cell_type": "code",
   "execution_count": 32,
   "metadata": {},
   "outputs": [
    {
     "data": {
      "text/plain": [
       "0.0"
      ]
     },
     "execution_count": 32,
     "metadata": {},
     "output_type": "execute_result"
    }
   ],
   "source": [
    "p_diffs =np.array(p_diffs)\n",
    "len(p_diffs[p_diffs < 0])/len(p_diffs)#p-value"
   ]
  },
  {
   "cell_type": "code",
   "execution_count": null,
   "metadata": {},
   "outputs": [],
   "source": [
    "#h)In words, explain what you just computed in part `g)`  What is this value called in scientific studies?  What does this value mean in terms of whether or not there is a difference between the new and old pages using our Type I error rate of 0.05?\n",
    "#The value in hg) is the proportion of positive differences. For each difference in conversion rates in the simulation, the difference is greater than zero, giving a value of 1.0. This means the treatment group has a higher conversion rate than control group. In scientific studies this is called the 'treatment effect'. In terms of a Type 1 error rate of 0.05, there is a 5% chance of there being no difference between the control and treatment groups. Given that the treatment group outperforms the control group, the treatment group seems to be the preferred group. If this data concerned a drug trial, the treatment group seems to be more effective than the control.\n"
   ]
  },
  {
   "cell_type": "code",
   "execution_count": null,
   "metadata": {},
   "outputs": [],
   "source": [
    "#Part IV-Algorithms\n",
    "#a)Since each row is a conversion, what type of regression should you be performing in this case?\n",
    "#Logistic regression"
   ]
  },
  {
   "cell_type": "code",
   "execution_count": 37,
   "metadata": {
    "scrolled": true
   },
   "outputs": [
    {
     "data": {
      "text/html": [
       "<div>\n",
       "<style scoped>\n",
       "    .dataframe tbody tr th:only-of-type {\n",
       "        vertical-align: middle;\n",
       "    }\n",
       "\n",
       "    .dataframe tbody tr th {\n",
       "        vertical-align: top;\n",
       "    }\n",
       "\n",
       "    .dataframe thead th {\n",
       "        text-align: right;\n",
       "    }\n",
       "</style>\n",
       "<table border=\"1\" class=\"dataframe\">\n",
       "  <thead>\n",
       "    <tr style=\"text-align: right;\">\n",
       "      <th></th>\n",
       "      <th>country</th>\n",
       "      <th>group</th>\n",
       "      <th>converted</th>\n",
       "    </tr>\n",
       "  </thead>\n",
       "  <tbody>\n",
       "    <tr>\n",
       "      <th>0</th>\n",
       "      <td>UK</td>\n",
       "      <td>control</td>\n",
       "      <td>0</td>\n",
       "    </tr>\n",
       "    <tr>\n",
       "      <th>1</th>\n",
       "      <td>US</td>\n",
       "      <td>treatment</td>\n",
       "      <td>1</td>\n",
       "    </tr>\n",
       "    <tr>\n",
       "      <th>2</th>\n",
       "      <td>UK</td>\n",
       "      <td>treatment</td>\n",
       "      <td>0</td>\n",
       "    </tr>\n",
       "    <tr>\n",
       "      <th>3</th>\n",
       "      <td>UK</td>\n",
       "      <td>control</td>\n",
       "      <td>0</td>\n",
       "    </tr>\n",
       "    <tr>\n",
       "      <th>4</th>\n",
       "      <td>UK</td>\n",
       "      <td>treatment</td>\n",
       "      <td>0</td>\n",
       "    </tr>\n",
       "  </tbody>\n",
       "</table>\n",
       "</div>"
      ],
      "text/plain": [
       "  country      group  converted\n",
       "0      UK    control          0\n",
       "1      US  treatment          1\n",
       "2      UK  treatment          0\n",
       "3      UK    control          0\n",
       "4      UK  treatment          0"
      ]
     },
     "execution_count": 37,
     "metadata": {},
     "output_type": "execute_result"
    }
   ],
   "source": [
    "#Part IV-Algorithms\n",
    "#a)\n",
    "import pandas as pd\n",
    "import numpy as np\n",
    "import random\n",
    "import matplotlib.pyplot as plt\n",
    "import statsmodels.api as sm\n",
    "random.seed(0)\n",
    "df = pd.read_csv('ab_data (8).csv')\n",
    "df.head()"
   ]
  },
  {
   "cell_type": "code",
   "execution_count": 39,
   "metadata": {
    "scrolled": true
   },
   "outputs": [
    {
     "data": {
      "text/html": [
       "<div>\n",
       "<style scoped>\n",
       "    .dataframe tbody tr th:only-of-type {\n",
       "        vertical-align: middle;\n",
       "    }\n",
       "\n",
       "    .dataframe tbody tr th {\n",
       "        vertical-align: top;\n",
       "    }\n",
       "\n",
       "    .dataframe thead th {\n",
       "        text-align: right;\n",
       "    }\n",
       "</style>\n",
       "<table border=\"1\" class=\"dataframe\">\n",
       "  <thead>\n",
       "    <tr style=\"text-align: right;\">\n",
       "      <th></th>\n",
       "      <th>country</th>\n",
       "      <th>group</th>\n",
       "      <th>converted</th>\n",
       "      <th>intercept</th>\n",
       "      <th>ab_page</th>\n",
       "    </tr>\n",
       "  </thead>\n",
       "  <tbody>\n",
       "    <tr>\n",
       "      <th>0</th>\n",
       "      <td>UK</td>\n",
       "      <td>control</td>\n",
       "      <td>0</td>\n",
       "      <td>1</td>\n",
       "      <td>False</td>\n",
       "    </tr>\n",
       "    <tr>\n",
       "      <th>1</th>\n",
       "      <td>US</td>\n",
       "      <td>treatment</td>\n",
       "      <td>1</td>\n",
       "      <td>1</td>\n",
       "      <td>True</td>\n",
       "    </tr>\n",
       "    <tr>\n",
       "      <th>2</th>\n",
       "      <td>UK</td>\n",
       "      <td>treatment</td>\n",
       "      <td>0</td>\n",
       "      <td>1</td>\n",
       "      <td>True</td>\n",
       "    </tr>\n",
       "    <tr>\n",
       "      <th>3</th>\n",
       "      <td>UK</td>\n",
       "      <td>control</td>\n",
       "      <td>0</td>\n",
       "      <td>1</td>\n",
       "      <td>False</td>\n",
       "    </tr>\n",
       "    <tr>\n",
       "      <th>4</th>\n",
       "      <td>UK</td>\n",
       "      <td>treatment</td>\n",
       "      <td>0</td>\n",
       "      <td>1</td>\n",
       "      <td>True</td>\n",
       "    </tr>\n",
       "  </tbody>\n",
       "</table>\n",
       "</div>"
      ],
      "text/plain": [
       "  country      group  converted  intercept  ab_page\n",
       "0      UK    control          0          1    False\n",
       "1      US  treatment          1          1     True\n",
       "2      UK  treatment          0          1     True\n",
       "3      UK    control          0          1    False\n",
       "4      UK  treatment          0          1     True"
      ]
     },
     "execution_count": 39,
     "metadata": {},
     "output_type": "execute_result"
    }
   ],
   "source": [
    "#b)\n",
    "df['intercept'] = 1\n",
    "df['ab_page'] = pd.get_dummies(df['group'])['treatment']\n",
    "df.head()"
   ]
  },
  {
   "cell_type": "code",
   "execution_count": 40,
   "metadata": {},
   "outputs": [
    {
     "name": "stdout",
     "output_type": "stream",
     "text": [
      "      country      group  converted  intercept  ab_page\n",
      "0          UK    control          0          1        0\n",
      "1          US  treatment          1          1        1\n",
      "2          UK  treatment          0          1        1\n",
      "3          UK    control          0          1        0\n",
      "4          UK  treatment          0          1        1\n",
      "...       ...        ...        ...        ...      ...\n",
      "69884      UK  treatment          0          1        1\n",
      "69885      UK    control          0          1        0\n",
      "69886      UK  treatment          0          1        1\n",
      "69887      US    control          0          1        0\n",
      "69888      US  treatment          0          1        1\n",
      "\n",
      "[69889 rows x 5 columns]\n"
     ]
    }
   ],
   "source": [
    "df['ab_page'] = df['ab_page'].astype(int)\n",
    "\n",
    "# Display the updated DataFrame\n",
    "print(df)"
   ]
  },
  {
   "cell_type": "code",
   "execution_count": 41,
   "metadata": {},
   "outputs": [],
   "source": [
    "#c)\n",
    "X = df[['intercept', 'ab_page']]\n",
    "y = df['converted']"
   ]
  },
  {
   "cell_type": "code",
   "execution_count": 42,
   "metadata": {},
   "outputs": [
    {
     "name": "stdout",
     "output_type": "stream",
     "text": [
      "Optimization terminated successfully.\n",
      "         Current function value: 0.384516\n",
      "         Iterations 6\n",
      "                           Logit Regression Results                           \n",
      "==============================================================================\n",
      "Dep. Variable:              converted   No. Observations:                69889\n",
      "Model:                          Logit   Df Residuals:                    69887\n",
      "Method:                           MLE   Df Model:                            1\n",
      "Date:                Thu, 19 Jun 2025   Pseudo R-squ.:                0.007175\n",
      "Time:                        20:57:22   Log-Likelihood:                -26873.\n",
      "converged:                       True   LL-Null:                       -27068.\n",
      "Covariance Type:            nonrobust   LLR p-value:                 1.810e-86\n",
      "==============================================================================\n",
      "                 coef    std err          z      P>|z|      [0.025      0.975]\n",
      "------------------------------------------------------------------------------\n",
      "intercept     -2.1402      0.017   -122.305      0.000      -2.174      -2.106\n",
      "ab_page        0.4467      0.023     19.539      0.000       0.402       0.492\n",
      "==============================================================================\n"
     ]
    }
   ],
   "source": [
    "#d)\n",
    "import statsmodels.api as sm\n",
    "\n",
    "# Logit Model\n",
    "logit_mod = sm.Logit(y, X)\n",
    "logit_res = logit_mod.fit()\n",
    "#e)\n",
    "print(logit_res.summary())"
   ]
  },
  {
   "cell_type": "code",
   "execution_count": null,
   "metadata": {},
   "outputs": [],
   "source": [
    "#f) Pseudo R-squ.: value = 0.007175, indicating the proportion of variance explained by the model is low, meaning the value does not explain much of the variance in the outcome.The p-value 0f ab_page = 0.000: The p-value for ab_page is very small, indicating that the conversion effect is statistically significant.0.00, Overall, the results indicate that the treatment page significantly increases the likelihood of conversion compared to the control page. However, the overall model fit is weak, suggesting that other variables may be relevant.  "
   ]
  },
  {
   "cell_type": "code",
   "execution_count": 43,
   "metadata": {},
   "outputs": [
    {
     "data": {
      "text/html": [
       "<div>\n",
       "<style scoped>\n",
       "    .dataframe tbody tr th:only-of-type {\n",
       "        vertical-align: middle;\n",
       "    }\n",
       "\n",
       "    .dataframe tbody tr th {\n",
       "        vertical-align: top;\n",
       "    }\n",
       "\n",
       "    .dataframe thead th {\n",
       "        text-align: right;\n",
       "    }\n",
       "</style>\n",
       "<table border=\"1\" class=\"dataframe\">\n",
       "  <thead>\n",
       "    <tr style=\"text-align: right;\">\n",
       "      <th></th>\n",
       "      <th>country</th>\n",
       "      <th>group</th>\n",
       "      <th>converted</th>\n",
       "      <th>intercept</th>\n",
       "      <th>ab_page</th>\n",
       "      <th>US</th>\n",
       "      <th>UK</th>\n",
       "    </tr>\n",
       "  </thead>\n",
       "  <tbody>\n",
       "    <tr>\n",
       "      <th>0</th>\n",
       "      <td>UK</td>\n",
       "      <td>control</td>\n",
       "      <td>0</td>\n",
       "      <td>1</td>\n",
       "      <td>0</td>\n",
       "      <td>True</td>\n",
       "      <td>False</td>\n",
       "    </tr>\n",
       "    <tr>\n",
       "      <th>1</th>\n",
       "      <td>US</td>\n",
       "      <td>treatment</td>\n",
       "      <td>1</td>\n",
       "      <td>1</td>\n",
       "      <td>1</td>\n",
       "      <td>False</td>\n",
       "      <td>True</td>\n",
       "    </tr>\n",
       "    <tr>\n",
       "      <th>2</th>\n",
       "      <td>UK</td>\n",
       "      <td>treatment</td>\n",
       "      <td>0</td>\n",
       "      <td>1</td>\n",
       "      <td>1</td>\n",
       "      <td>True</td>\n",
       "      <td>False</td>\n",
       "    </tr>\n",
       "    <tr>\n",
       "      <th>3</th>\n",
       "      <td>UK</td>\n",
       "      <td>control</td>\n",
       "      <td>0</td>\n",
       "      <td>1</td>\n",
       "      <td>0</td>\n",
       "      <td>True</td>\n",
       "      <td>False</td>\n",
       "    </tr>\n",
       "    <tr>\n",
       "      <th>4</th>\n",
       "      <td>UK</td>\n",
       "      <td>treatment</td>\n",
       "      <td>0</td>\n",
       "      <td>1</td>\n",
       "      <td>1</td>\n",
       "      <td>True</td>\n",
       "      <td>False</td>\n",
       "    </tr>\n",
       "  </tbody>\n",
       "</table>\n",
       "</div>"
      ],
      "text/plain": [
       "  country      group  converted  intercept  ab_page     US     UK\n",
       "0      UK    control          0          1        0   True  False\n",
       "1      US  treatment          1          1        1  False   True\n",
       "2      UK  treatment          0          1        1   True  False\n",
       "3      UK    control          0          1        0   True  False\n",
       "4      UK  treatment          0          1        1   True  False"
      ]
     },
     "execution_count": 43,
     "metadata": {},
     "output_type": "execute_result"
    }
   ],
   "source": [
    "df['intercept'] = 1\n",
    "df[['US', 'UK']] = pd.get_dummies(df['country'], drop_first=True)  # Use drop_first to avoid dummy variable trap\n",
    "#df = df.drop(columns=['US, UK'])\n",
    "df.head()"
   ]
  },
  {
   "cell_type": "code",
   "execution_count": 44,
   "metadata": {},
   "outputs": [
    {
     "name": "stdout",
     "output_type": "stream",
     "text": [
      "      country      group  converted  intercept  ab_page  US  UK\n",
      "0          UK    control          0          1        0   1   0\n",
      "1          US  treatment          1          1        1   0   1\n",
      "2          UK  treatment          0          1        1   1   0\n",
      "3          UK    control          0          1        0   1   0\n",
      "4          UK  treatment          0          1        1   1   0\n",
      "...       ...        ...        ...        ...      ...  ..  ..\n",
      "69884      UK  treatment          0          1        1   1   0\n",
      "69885      UK    control          0          1        0   1   0\n",
      "69886      UK  treatment          0          1        1   1   0\n",
      "69887      US    control          0          1        0   0   1\n",
      "69888      US  treatment          0          1        1   0   1\n",
      "\n",
      "[69889 rows x 7 columns]\n"
     ]
    }
   ],
   "source": [
    "df['US'] = df['US'].astype(int)  # Convert US from bool to int\n",
    "df['UK'] = df['UK'].astype(int)  # Convert UK from bool to int\n",
    "\n",
    "# Display the updated DataFrame\n",
    "print(df)\n",
    "#print(df.dtypes)  # Check the dat"
   ]
  },
  {
   "cell_type": "code",
   "execution_count": 45,
   "metadata": {},
   "outputs": [
    {
     "data": {
      "text/html": [
       "<div>\n",
       "<style scoped>\n",
       "    .dataframe tbody tr th:only-of-type {\n",
       "        vertical-align: middle;\n",
       "    }\n",
       "\n",
       "    .dataframe tbody tr th {\n",
       "        vertical-align: top;\n",
       "    }\n",
       "\n",
       "    .dataframe thead th {\n",
       "        text-align: right;\n",
       "    }\n",
       "</style>\n",
       "<table border=\"1\" class=\"dataframe\">\n",
       "  <thead>\n",
       "    <tr style=\"text-align: right;\">\n",
       "      <th></th>\n",
       "      <th>country</th>\n",
       "      <th>group</th>\n",
       "      <th>converted</th>\n",
       "      <th>intercept</th>\n",
       "      <th>ab_page</th>\n",
       "      <th>US</th>\n",
       "      <th>UK</th>\n",
       "    </tr>\n",
       "  </thead>\n",
       "  <tbody>\n",
       "    <tr>\n",
       "      <th>0</th>\n",
       "      <td>UK</td>\n",
       "      <td>control</td>\n",
       "      <td>0</td>\n",
       "      <td>1</td>\n",
       "      <td>0</td>\n",
       "      <td>True</td>\n",
       "      <td>False</td>\n",
       "    </tr>\n",
       "    <tr>\n",
       "      <th>1</th>\n",
       "      <td>US</td>\n",
       "      <td>treatment</td>\n",
       "      <td>1</td>\n",
       "      <td>1</td>\n",
       "      <td>1</td>\n",
       "      <td>False</td>\n",
       "      <td>True</td>\n",
       "    </tr>\n",
       "    <tr>\n",
       "      <th>2</th>\n",
       "      <td>UK</td>\n",
       "      <td>treatment</td>\n",
       "      <td>0</td>\n",
       "      <td>1</td>\n",
       "      <td>1</td>\n",
       "      <td>True</td>\n",
       "      <td>False</td>\n",
       "    </tr>\n",
       "    <tr>\n",
       "      <th>3</th>\n",
       "      <td>UK</td>\n",
       "      <td>control</td>\n",
       "      <td>0</td>\n",
       "      <td>1</td>\n",
       "      <td>0</td>\n",
       "      <td>True</td>\n",
       "      <td>False</td>\n",
       "    </tr>\n",
       "    <tr>\n",
       "      <th>4</th>\n",
       "      <td>UK</td>\n",
       "      <td>treatment</td>\n",
       "      <td>0</td>\n",
       "      <td>1</td>\n",
       "      <td>1</td>\n",
       "      <td>True</td>\n",
       "      <td>False</td>\n",
       "    </tr>\n",
       "  </tbody>\n",
       "</table>\n",
       "</div>"
      ],
      "text/plain": [
       "  country      group  converted  intercept  ab_page     US     UK\n",
       "0      UK    control          0          1        0   True  False\n",
       "1      US  treatment          1          1        1  False   True\n",
       "2      UK  treatment          0          1        1   True  False\n",
       "3      UK    control          0          1        0   True  False\n",
       "4      UK  treatment          0          1        1   True  False"
      ]
     },
     "execution_count": 45,
     "metadata": {},
     "output_type": "execute_result"
    }
   ],
   "source": [
    "### 2.a)Create the necessary dummy variables\n",
    "df['intercept'] = 1\n",
    "df[['US', 'UK']] = pd.get_dummies(df['country'], drop_first=True)  # Use drop_first to av\n",
    "df.head()"
   ]
  },
  {
   "cell_type": "code",
   "execution_count": 46,
   "metadata": {},
   "outputs": [
    {
     "name": "stdout",
     "output_type": "stream",
     "text": [
      "      country      group  converted  intercept  ab_page  US  UK\n",
      "0          UK    control          0          1        0   1   0\n",
      "1          US  treatment          1          1        1   0   1\n",
      "2          UK  treatment          0          1        1   1   0\n",
      "3          UK    control          0          1        0   1   0\n",
      "4          UK  treatment          0          1        1   1   0\n",
      "...       ...        ...        ...        ...      ...  ..  ..\n",
      "69884      UK  treatment          0          1        1   1   0\n",
      "69885      UK    control          0          1        0   1   0\n",
      "69886      UK  treatment          0          1        1   1   0\n",
      "69887      US    control          0          1        0   0   1\n",
      "69888      US  treatment          0          1        1   0   1\n",
      "\n",
      "[69889 rows x 7 columns]\n"
     ]
    }
   ],
   "source": [
    "df['US'] = df['US'].astype(int)  # Convert True/False to 1/0\n",
    "df['UK'] = df['UK'].astype(int)  # Convert True/False to 1/0\n",
    "\n",
    "# Display the updated DataFrame\n",
    "print(df)"
   ]
  },
  {
   "cell_type": "code",
   "execution_count": 24,
   "metadata": {},
   "outputs": [],
   "source": [
    "df = df.drop(columns=[('US', 'UK')])"
   ]
  },
  {
   "cell_type": "code",
   "execution_count": 25,
   "metadata": {},
   "outputs": [
    {
     "name": "stdout",
     "output_type": "stream",
     "text": [
      "Index(['country', 'group', 'converted', 'intercept', 'ab_page', 'US', 'UK'], dtype='object')\n"
     ]
    }
   ],
   "source": [
    "print(df.columns)"
   ]
  },
  {
   "cell_type": "code",
   "execution_count": 28,
   "metadata": {},
   "outputs": [
    {
     "data": {
      "text/html": [
       "<div>\n",
       "<style scoped>\n",
       "    .dataframe tbody tr th:only-of-type {\n",
       "        vertical-align: middle;\n",
       "    }\n",
       "\n",
       "    .dataframe tbody tr th {\n",
       "        vertical-align: top;\n",
       "    }\n",
       "\n",
       "    .dataframe thead th {\n",
       "        text-align: right;\n",
       "    }\n",
       "</style>\n",
       "<table border=\"1\" class=\"dataframe\">\n",
       "  <thead>\n",
       "    <tr style=\"text-align: right;\">\n",
       "      <th></th>\n",
       "      <th>country</th>\n",
       "      <th>group</th>\n",
       "      <th>converted</th>\n",
       "      <th>intercept</th>\n",
       "      <th>ab_page</th>\n",
       "      <th>US</th>\n",
       "      <th>UK</th>\n",
       "    </tr>\n",
       "  </thead>\n",
       "  <tbody>\n",
       "    <tr>\n",
       "      <th>0</th>\n",
       "      <td>UK</td>\n",
       "      <td>control</td>\n",
       "      <td>0</td>\n",
       "      <td>1</td>\n",
       "      <td>0</td>\n",
       "      <td>1</td>\n",
       "      <td>0</td>\n",
       "    </tr>\n",
       "    <tr>\n",
       "      <th>1</th>\n",
       "      <td>US</td>\n",
       "      <td>treatment</td>\n",
       "      <td>1</td>\n",
       "      <td>1</td>\n",
       "      <td>1</td>\n",
       "      <td>0</td>\n",
       "      <td>1</td>\n",
       "    </tr>\n",
       "    <tr>\n",
       "      <th>2</th>\n",
       "      <td>UK</td>\n",
       "      <td>treatment</td>\n",
       "      <td>0</td>\n",
       "      <td>1</td>\n",
       "      <td>1</td>\n",
       "      <td>1</td>\n",
       "      <td>0</td>\n",
       "    </tr>\n",
       "    <tr>\n",
       "      <th>3</th>\n",
       "      <td>UK</td>\n",
       "      <td>control</td>\n",
       "      <td>0</td>\n",
       "      <td>1</td>\n",
       "      <td>0</td>\n",
       "      <td>1</td>\n",
       "      <td>0</td>\n",
       "    </tr>\n",
       "    <tr>\n",
       "      <th>4</th>\n",
       "      <td>UK</td>\n",
       "      <td>treatment</td>\n",
       "      <td>0</td>\n",
       "      <td>1</td>\n",
       "      <td>1</td>\n",
       "      <td>1</td>\n",
       "      <td>0</td>\n",
       "    </tr>\n",
       "  </tbody>\n",
       "</table>\n",
       "</div>"
      ],
      "text/plain": [
       "  country      group  converted  intercept  ab_page  US  UK\n",
       "0      UK    control          0          1        0   1   0\n",
       "1      US  treatment          1          1        1   0   1\n",
       "2      UK  treatment          0          1        1   1   0\n",
       "3      UK    control          0          1        0   1   0\n",
       "4      UK  treatment          0          1        1   1   0"
      ]
     },
     "execution_count": 28,
     "metadata": {},
     "output_type": "execute_result"
    }
   ],
   "source": [
    "df['intercept'] = 1\n",
    "df[['US', 'UK']] = pd.get_dummies(df['country'], drop_first=True)  # Use drop_first to av\n",
    "df.head()"
   ]
  },
  {
   "cell_type": "code",
   "execution_count": 47,
   "metadata": {},
   "outputs": [],
   "source": [
    "#2b)\n",
    "X = df[['intercept', 'US','UK']]\n",
    "y = df['converted']"
   ]
  },
  {
   "cell_type": "code",
   "execution_count": 48,
   "metadata": {},
   "outputs": [
    {
     "name": "stdout",
     "output_type": "stream",
     "text": [
      "Optimization terminated successfully.\n",
      "         Current function value: 0.387241\n",
      "         Iterations 6\n",
      "                           Logit Regression Results                           \n",
      "==============================================================================\n",
      "Dep. Variable:              converted   No. Observations:                69889\n",
      "Model:                          Logit   Df Residuals:                    69886\n",
      "Method:                           MLE   Df Model:                            2\n",
      "Date:                Thu, 19 Jun 2025   Pseudo R-squ.:               0.0001402\n",
      "Time:                        21:02:43   Log-Likelihood:                -27064.\n",
      "converged:                       True   LL-Null:                       -27068.\n",
      "Covariance Type:            nonrobust   LLR p-value:                   0.02250\n",
      "==============================================================================\n",
      "                 coef    std err          z      P>|z|      [0.025      0.975]\n",
      "------------------------------------------------------------------------------\n",
      "intercept     -1.9433      0.051    -37.994      0.000      -2.044      -1.843\n",
      "US            -0.0015      0.056     -0.027      0.978      -0.111       0.108\n",
      "UK             0.0666      0.053      1.261      0.207      -0.037       0.170\n",
      "==============================================================================\n"
     ]
    }
   ],
   "source": [
    "#2c)import statsmodels.api as sm\n",
    "\n",
    "# Logit Model\n",
    "logit_mod = sm.Logit(y, X)\n",
    "logit_res = logit_mod.fit()\n",
    "#2d)\n",
    "print(logit_res.summary())"
   ]
  },
  {
   "cell_type": "code",
   "execution_count": null,
   "metadata": {},
   "outputs": [],
   "source": [
    "#2e) The 'US' variable is very high (0.978), which indicates that there is no statistically significant relationship between being in the 'US' group and the conversion rate. The 'UK' variable is also relatively high (0.207), suggesting that there is no statistically significant effect of being in the 'UK' group on the conversion rate compared to the reference group. This means that neither the 'US' nor the 'UK' group  significantly differ from the reference group. However, the  Pseudo R-squ.: value =  0.0001402, which means the model is very weak at explaining the variance in outcome, so there is not s lot of confidence in the claim that the 'US' nor the 'UK' group  significantly differ from the reference group."
   ]
  },
  {
   "cell_type": "markdown",
   "metadata": {},
   "source": [
    "`h)` In words, explain what you just computed in part `g)`  What is this value called in scientific studies?  What does this value mean in terms of whether or not there is a difference between the new and old pages using our Type I error rate of 0.05?"
   ]
  },
  {
   "cell_type": "markdown",
   "metadata": {},
   "source": [
    "#### For each difference in conversion rates in the simulation, the difference is greater than zero, giving a value of 1.0. This means the treatment group has a higher conversion rate than control group. In scientific studies this is called the 'treatment effect'. In terms of a Type 1 error rate of 0.05, there is a 5% chance of there being no difference between the control and treatment groups."
   ]
  },
  {
   "cell_type": "markdown",
   "metadata": {},
   "source": [
    "<a id='finalcheck'></a>\n",
    "## Final Check!\n",
    "\n",
    "Congratulations!  You have reached the end of the A/B Test Results project!  You should be very proud of all you have accomplished!\n",
    "\n",
    "> **Tip**: Once you are satisfied with your work here, check over your notebook to make sure that it satisfies all the specifications mentioned in the rubric. You should also probably remove all of the \"Hints\" and \"Tips\" like this one so that the presentation is as polished as possible.\n",
    "\n",
    "\n",
    "<a id='submission'></a>\n",
    "## Submission\n",
    "\n",
    "Please follow the directions in the classroom to submit this notebook, as well as your completed slides."
   ]
  }
 ],
 "metadata": {
  "kernelspec": {
   "display_name": "base",
   "language": "python",
   "name": "python3"
  },
  "language_info": {
   "codemirror_mode": {
    "name": "ipython",
    "version": 3
   },
   "file_extension": ".py",
   "mimetype": "text/x-python",
   "name": "python",
   "nbconvert_exporter": "python",
   "pygments_lexer": "ipython3",
   "version": "3.12.7"
  }
 },
 "nbformat": 4,
 "nbformat_minor": 4
}
